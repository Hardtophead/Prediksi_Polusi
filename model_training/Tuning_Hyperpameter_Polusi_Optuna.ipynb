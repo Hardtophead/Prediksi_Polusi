{
 "cells": [
  {
   "cell_type": "code",
   "execution_count": 10,
   "metadata": {
    "execution": {
     "iopub.execute_input": "2025-08-09T06:33:02.711212Z",
     "iopub.status.busy": "2025-08-09T06:33:02.710537Z",
     "iopub.status.idle": "2025-08-09T06:33:09.377576Z",
     "shell.execute_reply": "2025-08-09T06:33:09.376792Z",
     "shell.execute_reply.started": "2025-08-09T06:33:02.711185Z"
    },
    "trusted": true
   },
   "outputs": [],
   "source": [
    "\n",
    "# !pip install optuna\n",
    "import optuna\n",
    "import pandas as pd\n",
    "from sklearn.preprocessing import MinMaxScaler\n",
    "import joblib\n",
    "import numpy as np\n",
    "import tensorflow as tf\n",
    "from tensorflow.keras.models import Sequential\n",
    "from tensorflow.keras.layers import *\n",
    "from tensorflow.keras.losses import MeanSquaredError, MeanAbsoluteError\n",
    "from tensorflow.keras.callbacks import EarlyStopping\n",
    "from tensorflow.keras.models import load_model\n",
    "from tensorflow.keras.optimizers import Adam\n",
    "from sklearn.metrics import mean_absolute_error, mean_squared_error, r2_score, mean_absolute_percentage_error\n",
    "import matplotlib.pyplot as plt\n",
    "from sklearn.model_selection import train_test_split"
   ]
  },
  {
   "cell_type": "code",
   "execution_count": 11,
   "metadata": {
    "execution": {
     "iopub.execute_input": "2025-08-09T06:33:18.994289Z",
     "iopub.status.busy": "2025-08-09T06:33:18.993708Z",
     "iopub.status.idle": "2025-08-09T06:33:19.549748Z",
     "shell.execute_reply": "2025-08-09T06:33:19.549013Z",
     "shell.execute_reply.started": "2025-08-09T06:33:18.994258Z"
    },
    "trusted": true
   },
   "outputs": [
    {
     "data": {
      "text/html": [
       "<div>\n",
       "<style scoped>\n",
       "    .dataframe tbody tr th:only-of-type {\n",
       "        vertical-align: middle;\n",
       "    }\n",
       "\n",
       "    .dataframe tbody tr th {\n",
       "        vertical-align: top;\n",
       "    }\n",
       "\n",
       "    .dataframe thead th {\n",
       "        text-align: right;\n",
       "    }\n",
       "</style>\n",
       "<table border=\"1\" class=\"dataframe\">\n",
       "  <thead>\n",
       "    <tr style=\"text-align: right;\">\n",
       "      <th></th>\n",
       "      <th>created_at</th>\n",
       "      <th>Temperature</th>\n",
       "      <th>Humidity</th>\n",
       "      <th>PM2.5</th>\n",
       "      <th>PM10</th>\n",
       "      <th>CO</th>\n",
       "      <th>CO2</th>\n",
       "    </tr>\n",
       "  </thead>\n",
       "  <tbody>\n",
       "    <tr>\n",
       "      <th>0</th>\n",
       "      <td>2025-06-21 07:00:15</td>\n",
       "      <td>24.8</td>\n",
       "      <td>84.3</td>\n",
       "      <td>52.7</td>\n",
       "      <td>72.5</td>\n",
       "      <td>0.59860</td>\n",
       "      <td>403.34171</td>\n",
       "    </tr>\n",
       "    <tr>\n",
       "      <th>1</th>\n",
       "      <td>2025-06-21 07:01:04</td>\n",
       "      <td>24.8</td>\n",
       "      <td>84.1</td>\n",
       "      <td>50.4</td>\n",
       "      <td>66.7</td>\n",
       "      <td>0.56109</td>\n",
       "      <td>403.40472</td>\n",
       "    </tr>\n",
       "    <tr>\n",
       "      <th>2</th>\n",
       "      <td>2025-06-21 07:01:53</td>\n",
       "      <td>24.8</td>\n",
       "      <td>84.0</td>\n",
       "      <td>51.7</td>\n",
       "      <td>74.0</td>\n",
       "      <td>0.54466</td>\n",
       "      <td>403.36261</td>\n",
       "    </tr>\n",
       "    <tr>\n",
       "      <th>3</th>\n",
       "      <td>2025-06-21 07:02:43</td>\n",
       "      <td>24.9</td>\n",
       "      <td>83.6</td>\n",
       "      <td>49.7</td>\n",
       "      <td>65.9</td>\n",
       "      <td>0.55447</td>\n",
       "      <td>403.30020</td>\n",
       "    </tr>\n",
       "    <tr>\n",
       "      <th>4</th>\n",
       "      <td>2025-06-21 07:03:32</td>\n",
       "      <td>24.9</td>\n",
       "      <td>83.3</td>\n",
       "      <td>51.6</td>\n",
       "      <td>72.7</td>\n",
       "      <td>0.57113</td>\n",
       "      <td>403.29333</td>\n",
       "    </tr>\n",
       "    <tr>\n",
       "      <th>...</th>\n",
       "      <td>...</td>\n",
       "      <td>...</td>\n",
       "      <td>...</td>\n",
       "      <td>...</td>\n",
       "      <td>...</td>\n",
       "      <td>...</td>\n",
       "      <td>...</td>\n",
       "    </tr>\n",
       "    <tr>\n",
       "      <th>62420</th>\n",
       "      <td>2025-07-28 06:55:48</td>\n",
       "      <td>25.7</td>\n",
       "      <td>77.3</td>\n",
       "      <td>60.4</td>\n",
       "      <td>89.8</td>\n",
       "      <td>8.19941</td>\n",
       "      <td>411.28958</td>\n",
       "    </tr>\n",
       "    <tr>\n",
       "      <th>62421</th>\n",
       "      <td>2025-07-28 06:56:41</td>\n",
       "      <td>25.8</td>\n",
       "      <td>77.0</td>\n",
       "      <td>59.8</td>\n",
       "      <td>88.2</td>\n",
       "      <td>8.21437</td>\n",
       "      <td>411.35828</td>\n",
       "    </tr>\n",
       "    <tr>\n",
       "      <th>62422</th>\n",
       "      <td>2025-07-28 06:57:35</td>\n",
       "      <td>25.8</td>\n",
       "      <td>76.8</td>\n",
       "      <td>61.0</td>\n",
       "      <td>92.7</td>\n",
       "      <td>8.12498</td>\n",
       "      <td>411.18726</td>\n",
       "    </tr>\n",
       "    <tr>\n",
       "      <th>62423</th>\n",
       "      <td>2025-07-28 06:58:24</td>\n",
       "      <td>25.8</td>\n",
       "      <td>76.5</td>\n",
       "      <td>60.2</td>\n",
       "      <td>90.9</td>\n",
       "      <td>8.15468</td>\n",
       "      <td>411.41003</td>\n",
       "    </tr>\n",
       "    <tr>\n",
       "      <th>62424</th>\n",
       "      <td>2025-07-28 06:59:14</td>\n",
       "      <td>25.8</td>\n",
       "      <td>76.5</td>\n",
       "      <td>59.6</td>\n",
       "      <td>90.3</td>\n",
       "      <td>8.42626</td>\n",
       "      <td>411.18726</td>\n",
       "    </tr>\n",
       "  </tbody>\n",
       "</table>\n",
       "<p>62425 rows × 7 columns</p>\n",
       "</div>"
      ],
      "text/plain": [
       "               created_at  Temperature  Humidity  PM2.5  PM10       CO  \\\n",
       "0     2025-06-21 07:00:15         24.8      84.3   52.7  72.5  0.59860   \n",
       "1     2025-06-21 07:01:04         24.8      84.1   50.4  66.7  0.56109   \n",
       "2     2025-06-21 07:01:53         24.8      84.0   51.7  74.0  0.54466   \n",
       "3     2025-06-21 07:02:43         24.9      83.6   49.7  65.9  0.55447   \n",
       "4     2025-06-21 07:03:32         24.9      83.3   51.6  72.7  0.57113   \n",
       "...                   ...          ...       ...    ...   ...      ...   \n",
       "62420 2025-07-28 06:55:48         25.7      77.3   60.4  89.8  8.19941   \n",
       "62421 2025-07-28 06:56:41         25.8      77.0   59.8  88.2  8.21437   \n",
       "62422 2025-07-28 06:57:35         25.8      76.8   61.0  92.7  8.12498   \n",
       "62423 2025-07-28 06:58:24         25.8      76.5   60.2  90.9  8.15468   \n",
       "62424 2025-07-28 06:59:14         25.8      76.5   59.6  90.3  8.42626   \n",
       "\n",
       "             CO2  \n",
       "0      403.34171  \n",
       "1      403.40472  \n",
       "2      403.36261  \n",
       "3      403.30020  \n",
       "4      403.29333  \n",
       "...          ...  \n",
       "62420  411.28958  \n",
       "62421  411.35828  \n",
       "62422  411.18726  \n",
       "62423  411.41003  \n",
       "62424  411.18726  \n",
       "\n",
       "[62425 rows x 7 columns]"
      ]
     },
     "execution_count": 11,
     "metadata": {},
     "output_type": "execute_result"
    }
   ],
   "source": [
    "# Membaca data dari file CSV bernama 'pollution_data.csv' ke dalam DataFrame df\n",
    "df = pd.read_csv('pollution_data.csv')\n",
    "\n",
    "# Mengubah kolom 'created_at' menjadi tipe data datetime\n",
    "df['created_at'] = pd.to_datetime(df['created_at'])\n",
    "\n",
    "# Menghapus informasi zona waktu dari kolom 'created_at'\n",
    "df['created_at'] = df['created_at'].dt.tz_localize(None)\n",
    "\n",
    "# Menampilkan DataFrame df\n",
    "df"
   ]
  },
  {
   "cell_type": "code",
   "execution_count": 12,
   "metadata": {
    "execution": {
     "iopub.execute_input": "2025-08-09T06:33:32.469409Z",
     "iopub.status.busy": "2025-08-09T06:33:32.469159Z",
     "iopub.status.idle": "2025-08-09T06:33:32.502276Z",
     "shell.execute_reply": "2025-08-09T06:33:32.501410Z",
     "shell.execute_reply.started": "2025-08-09T06:33:32.469391Z"
    },
    "trusted": true
   },
   "outputs": [
    {
     "data": {
      "text/html": [
       "<div>\n",
       "<style scoped>\n",
       "    .dataframe tbody tr th:only-of-type {\n",
       "        vertical-align: middle;\n",
       "    }\n",
       "\n",
       "    .dataframe tbody tr th {\n",
       "        vertical-align: top;\n",
       "    }\n",
       "\n",
       "    .dataframe thead th {\n",
       "        text-align: right;\n",
       "    }\n",
       "</style>\n",
       "<table border=\"1\" class=\"dataframe\">\n",
       "  <thead>\n",
       "    <tr style=\"text-align: right;\">\n",
       "      <th></th>\n",
       "      <th>PM2.5</th>\n",
       "      <th>PM10</th>\n",
       "      <th>CO</th>\n",
       "      <th>CO2</th>\n",
       "      <th>hour</th>\n",
       "      <th>dayofweek</th>\n",
       "      <th>minute</th>\n",
       "    </tr>\n",
       "    <tr>\n",
       "      <th>datetime</th>\n",
       "      <th></th>\n",
       "      <th></th>\n",
       "      <th></th>\n",
       "      <th></th>\n",
       "      <th></th>\n",
       "      <th></th>\n",
       "      <th></th>\n",
       "    </tr>\n",
       "  </thead>\n",
       "  <tbody>\n",
       "    <tr>\n",
       "      <th>2025-06-21 07:00:00</th>\n",
       "      <td>52.7</td>\n",
       "      <td>72.5</td>\n",
       "      <td>0.59860</td>\n",
       "      <td>403.34171</td>\n",
       "      <td>7</td>\n",
       "      <td>5</td>\n",
       "      <td>0</td>\n",
       "    </tr>\n",
       "    <tr>\n",
       "      <th>2025-06-21 07:03:00</th>\n",
       "      <td>51.6</td>\n",
       "      <td>72.7</td>\n",
       "      <td>0.57113</td>\n",
       "      <td>403.29333</td>\n",
       "      <td>7</td>\n",
       "      <td>5</td>\n",
       "      <td>3</td>\n",
       "    </tr>\n",
       "    <tr>\n",
       "      <th>2025-06-21 07:06:00</th>\n",
       "      <td>50.2</td>\n",
       "      <td>67.4</td>\n",
       "      <td>0.55119</td>\n",
       "      <td>403.32782</td>\n",
       "      <td>7</td>\n",
       "      <td>5</td>\n",
       "      <td>6</td>\n",
       "    </tr>\n",
       "    <tr>\n",
       "      <th>2025-06-21 07:09:00</th>\n",
       "      <td>54.5</td>\n",
       "      <td>74.4</td>\n",
       "      <td>0.58302</td>\n",
       "      <td>403.24551</td>\n",
       "      <td>7</td>\n",
       "      <td>5</td>\n",
       "      <td>9</td>\n",
       "    </tr>\n",
       "    <tr>\n",
       "      <th>2025-06-21 07:12:00</th>\n",
       "      <td>55.0</td>\n",
       "      <td>72.6</td>\n",
       "      <td>0.53658</td>\n",
       "      <td>403.36960</td>\n",
       "      <td>7</td>\n",
       "      <td>5</td>\n",
       "      <td>12</td>\n",
       "    </tr>\n",
       "    <tr>\n",
       "      <th>...</th>\n",
       "      <td>...</td>\n",
       "      <td>...</td>\n",
       "      <td>...</td>\n",
       "      <td>...</td>\n",
       "      <td>...</td>\n",
       "      <td>...</td>\n",
       "      <td>...</td>\n",
       "    </tr>\n",
       "    <tr>\n",
       "      <th>2025-07-28 06:45:00</th>\n",
       "      <td>52.4</td>\n",
       "      <td>80.0</td>\n",
       "      <td>7.34412</td>\n",
       "      <td>410.49396</td>\n",
       "      <td>6</td>\n",
       "      <td>0</td>\n",
       "      <td>45</td>\n",
       "    </tr>\n",
       "    <tr>\n",
       "      <th>2025-07-28 06:48:00</th>\n",
       "      <td>53.6</td>\n",
       "      <td>84.1</td>\n",
       "      <td>7.20935</td>\n",
       "      <td>410.60675</td>\n",
       "      <td>6</td>\n",
       "      <td>0</td>\n",
       "      <td>48</td>\n",
       "    </tr>\n",
       "    <tr>\n",
       "      <th>2025-07-28 06:51:00</th>\n",
       "      <td>61.7</td>\n",
       "      <td>90.6</td>\n",
       "      <td>7.64829</td>\n",
       "      <td>410.65543</td>\n",
       "      <td>6</td>\n",
       "      <td>0</td>\n",
       "      <td>51</td>\n",
       "    </tr>\n",
       "    <tr>\n",
       "      <th>2025-07-28 06:54:00</th>\n",
       "      <td>60.3</td>\n",
       "      <td>92.2</td>\n",
       "      <td>7.90520</td>\n",
       "      <td>410.98508</td>\n",
       "      <td>6</td>\n",
       "      <td>0</td>\n",
       "      <td>54</td>\n",
       "    </tr>\n",
       "    <tr>\n",
       "      <th>2025-07-28 06:57:00</th>\n",
       "      <td>61.0</td>\n",
       "      <td>92.7</td>\n",
       "      <td>8.12498</td>\n",
       "      <td>411.18726</td>\n",
       "      <td>6</td>\n",
       "      <td>0</td>\n",
       "      <td>57</td>\n",
       "    </tr>\n",
       "  </tbody>\n",
       "</table>\n",
       "<p>17388 rows × 7 columns</p>\n",
       "</div>"
      ],
      "text/plain": [
       "                     PM2.5  PM10       CO        CO2  hour  dayofweek  minute\n",
       "datetime                                                                     \n",
       "2025-06-21 07:00:00   52.7  72.5  0.59860  403.34171     7          5       0\n",
       "2025-06-21 07:03:00   51.6  72.7  0.57113  403.29333     7          5       3\n",
       "2025-06-21 07:06:00   50.2  67.4  0.55119  403.32782     7          5       6\n",
       "2025-06-21 07:09:00   54.5  74.4  0.58302  403.24551     7          5       9\n",
       "2025-06-21 07:12:00   55.0  72.6  0.53658  403.36960     7          5      12\n",
       "...                    ...   ...      ...        ...   ...        ...     ...\n",
       "2025-07-28 06:45:00   52.4  80.0  7.34412  410.49396     6          0      45\n",
       "2025-07-28 06:48:00   53.6  84.1  7.20935  410.60675     6          0      48\n",
       "2025-07-28 06:51:00   61.7  90.6  7.64829  410.65543     6          0      51\n",
       "2025-07-28 06:54:00   60.3  92.2  7.90520  410.98508     6          0      54\n",
       "2025-07-28 06:57:00   61.0  92.7  8.12498  411.18726     6          0      57\n",
       "\n",
       "[17388 rows x 7 columns]"
      ]
     },
     "execution_count": 12,
     "metadata": {},
     "output_type": "execute_result"
    }
   ],
   "source": [
    "# Menghapus kolom 'Temperature' dan 'Humidity' dari DataFrame df\n",
    "df = df.drop(columns=['Temperature', 'Humidity'])\n",
    "\n",
    "# Membulatkan waktu pada kolom 'created_at' ke menit terdekat\n",
    "df['created_at'] = df['created_at'].dt.floor('min')\n",
    "\n",
    "# Memilih baris di mana menit pada 'created_at' adalah kelipatan 3\n",
    "df = df[df['created_at'].dt.minute % 3 == 0]\n",
    "\n",
    "# Menghapus duplikat berdasarkan 'created_at', hanya menyimpan yang pertama\n",
    "df = df.drop_duplicates(subset='created_at', keep='first')\n",
    "\n",
    "# Mengganti nama kolom 'created_at' menjadi 'datetime'\n",
    "df = df.rename(columns={'created_at':'datetime'})\n",
    "\n",
    "# Menjadikan kolom 'datetime' sebagai index DataFrame\n",
    "df.set_index('datetime', inplace=True)\n",
    "\n",
    "# Menambahkan kolom 'hour' yang berisi jam dari index\n",
    "df['hour'] = df.index.hour\n",
    "\n",
    "# Menambahkan kolom 'dayofweek' yang berisi hari dalam minggu dari index\n",
    "df['dayofweek'] = df.index.dayofweek\n",
    "\n",
    "# Menambahkan kolom 'minute' yang berisi menit dari index\n",
    "df['minute'] = df.index.minute\n",
    "\n",
    "# Menampilkan DataFrame df\n",
    "df"
   ]
  },
  {
   "cell_type": "code",
   "execution_count": 13,
   "metadata": {
    "execution": {
     "iopub.execute_input": "2025-08-09T06:33:38.660182Z",
     "iopub.status.busy": "2025-08-09T06:33:38.659547Z",
     "iopub.status.idle": "2025-08-09T06:33:38.675392Z",
     "shell.execute_reply": "2025-08-09T06:33:38.674720Z",
     "shell.execute_reply.started": "2025-08-09T06:33:38.660144Z"
    },
    "trusted": true
   },
   "outputs": [
    {
     "data": {
      "text/plain": [
       "((17388, 4), (17388, 4))"
      ]
     },
     "execution_count": 13,
     "metadata": {},
     "output_type": "execute_result"
    }
   ],
   "source": [
    "# Memilih fitur yang akan digunakan sebagai input (X) dan target (y)\n",
    "features = ['PM2.5', 'PM10', 'CO', 'CO2']\n",
    "features_y = ['PM2.5', 'PM10', 'CO', 'CO2']\n",
    "\n",
    "# Mengambil data fitur dari DataFrame dan menghapus nilai yang hilang\n",
    "data_X = df[features].dropna()\n",
    "data_y = df[features_y].dropna()\n",
    "\n",
    "# Membuat objek MinMaxScaler untuk normalisasi data\n",
    "scaler_X = MinMaxScaler()\n",
    "scaler_y = MinMaxScaler()\n",
    "\n",
    "# Melakukan normalisasi pada data fitur dan target\n",
    "X_scaled = scaler_X.fit_transform(data_X)\n",
    "y_scaled = scaler_y.fit_transform(data_y)\n",
    "\n",
    "# Menampilkan bentuk (shape) dari data yang telah dinormalisasi\n",
    "X_scaled.shape, y_scaled.shape"
   ]
  },
  {
   "cell_type": "code",
   "execution_count": 14,
   "metadata": {
    "execution": {
     "iopub.execute_input": "2025-08-09T06:33:44.731055Z",
     "iopub.status.busy": "2025-08-09T06:33:44.730780Z",
     "iopub.status.idle": "2025-08-09T06:33:44.737872Z",
     "shell.execute_reply": "2025-08-09T06:33:44.737130Z",
     "shell.execute_reply.started": "2025-08-09T06:33:44.731033Z"
    },
    "trusted": true
   },
   "outputs": [
    {
     "data": {
      "text/plain": [
       "['scaler_y.save']"
      ]
     },
     "execution_count": 14,
     "metadata": {},
     "output_type": "execute_result"
    }
   ],
   "source": [
    "joblib.dump(scaler_X, 'scaler_X.save')\n",
    "joblib.dump(scaler_y, 'scaler_y.save')"
   ]
  },
  {
   "cell_type": "code",
   "execution_count": 15,
   "metadata": {
    "execution": {
     "iopub.execute_input": "2025-08-09T06:33:52.476458Z",
     "iopub.status.busy": "2025-08-09T06:33:52.475873Z",
     "iopub.status.idle": "2025-08-09T06:33:52.522974Z",
     "shell.execute_reply": "2025-08-09T06:33:52.522238Z",
     "shell.execute_reply.started": "2025-08-09T06:33:52.476429Z"
    },
    "trusted": true
   },
   "outputs": [
    {
     "data": {
      "text/plain": [
       "((17349, 20, 4), (17349, 20, 4))"
      ]
     },
     "execution_count": 15,
     "metadata": {},
     "output_type": "execute_result"
    }
   ],
   "source": [
    "# Fungsi create_sequences digunakan untuk membentuk data menjadi urutan (sequence) yang sesuai untuk model LSTM.\n",
    "# X_data: data fitur yang sudah dinormalisasi\n",
    "# y_data: data target yang sudah dinormalisasi\n",
    "# n_steps_in: jumlah langkah waktu (timesteps) sebagai input\n",
    "# n_steps_out: jumlah langkah waktu (timesteps) sebagai output\n",
    "\n",
    "def create_sequences(X_data, y_data, n_steps_in, n_steps_out):\n",
    "  X, y = [], []\n",
    "  for i in range(len(X_data) - n_steps_in - n_steps_out + 1):\n",
    "    # Mengambil urutan data sebagai input\n",
    "    X.append(X_data[i:i+n_steps_in])\n",
    "    # Mengambil urutan data sebagai target/output\n",
    "    y.append(y_data[i+n_steps_in:i+n_steps_in+n_steps_out])\n",
    "  return np.array(X), np.array(y)\n",
    "\n",
    "# n_in: jumlah timesteps input\n",
    "# n_out: jumlah timesteps output\n",
    "n_in = 20\n",
    "n_out = 20\n",
    "\n",
    "# Membentuk data urutan untuk LSTM\n",
    "X, y = create_sequences(X_scaled, y_scaled, n_in, n_out)\n",
    "\n",
    "# Menampilkan bentuk (shape) dari data input dan output\n",
    "X.shape, y.shape"
   ]
  },
  {
   "cell_type": "code",
   "execution_count": 16,
   "metadata": {
    "execution": {
     "iopub.execute_input": "2025-08-09T06:34:01.490931Z",
     "iopub.status.busy": "2025-08-09T06:34:01.490673Z",
     "iopub.status.idle": "2025-08-09T06:34:01.510875Z",
     "shell.execute_reply": "2025-08-09T06:34:01.510209Z",
     "shell.execute_reply.started": "2025-08-09T06:34:01.490912Z"
    },
    "trusted": true
   },
   "outputs": [
    {
     "data": {
      "text/plain": [
       "((13879, 20, 4), (3470, 20, 4), (13879, 20, 4), (3470, 20, 4))"
      ]
     },
     "execution_count": 16,
     "metadata": {},
     "output_type": "execute_result"
    }
   ],
   "source": [
    "# Membagi data menjadi data latih dan data uji menggunakan train_test_split\n",
    "# X_train, X_test: data fitur untuk pelatihan dan pengujian\n",
    "# y_train, y_test: data target untuk pelatihan dan pengujian\n",
    "# test_size=0.2: 20% data digunakan untuk pengujian, 80% untuk pelatihan\n",
    "# random_state=42: memastikan pembagian data konsisten setiap kali dijalankan\n",
    "\n",
    "X_train, X_test, y_train, y_test = train_test_split(X, y, test_size=0.2, random_state=42)\n",
    "\n",
    "# Menyimpan jumlah fitur dari data input\n",
    "n_features = X.shape[2]\n",
    "\n",
    "# Menampilkan bentuk (shape) dari data latih dan data uji\n",
    "X_train.shape, X_test.shape, y_train.shape, y_test.shape"
   ]
  },
  {
   "cell_type": "code",
   "execution_count": 17,
   "metadata": {
    "execution": {
     "iopub.execute_input": "2025-08-09T06:38:26.622319Z",
     "iopub.status.busy": "2025-08-09T06:38:26.622006Z",
     "iopub.status.idle": "2025-08-09T06:38:26.629355Z",
     "shell.execute_reply": "2025-08-09T06:38:26.628416Z",
     "shell.execute_reply.started": "2025-08-09T06:38:26.622294Z"
    },
    "trusted": true
   },
   "outputs": [],
   "source": [
    "# Fungsi objective digunakan oleh Optuna untuk melakukan optimasi hyperparameter pada model LSTM.\n",
    "# trial: objek dari Optuna yang digunakan untuk mencoba berbagai kombinasi hyperparameter.\n",
    "\n",
    "def objective(trial):\n",
    "  # Memilih jumlah unit LSTM dari beberapa pilihan\n",
    "  units = trial.suggest_categorical('units', [32, 64, 128])\n",
    "  # Memilih nilai dropout dari beberapa pilihan\n",
    "  dropout = trial.suggest_categorical('dropout', [0.00, 0.2, 0.4])\n",
    "  # Memilih learning rate dari beberapa pilihan\n",
    "  learning_rate = trial.suggest_categorical('learning_rate', [0.001, 0.0005, 0.0001])\n",
    "  # Memilih fungsi aktivasi dari beberapa pilihan\n",
    "  activation = trial.suggest_categorical('activation', ['tanh', 'relu'])\n",
    "  # Memilih ukuran batch dari beberapa pilihan\n",
    "  batch_size = trial.suggest_categorical('batch_size', [32, 64])\n",
    "  # Memilih jumlah epoch dari beberapa pilihan\n",
    "  epochs = trial.suggest_categorical('epochs', [10])\n",
    "\n",
    "  # Membuat model LSTM dengan hyperparameter yang dipilih\n",
    "  model = Sequential()\n",
    "  model.add(LSTM(units, activation=activation, input_shape=(n_in, n_features)))\n",
    "  model.add(Dropout(dropout))\n",
    "  model.add(RepeatVector(n_out))\n",
    "  model.add(LSTM(units, activation=activation, return_sequences=True))\n",
    "  model.add(Dropout(dropout))\n",
    "  model.add(TimeDistributed(Dense(n_features, activation='relu')))\n",
    "\n",
    "  # Menyusun model dengan optimizer Adam dan loss function MSE\n",
    "  model.compile(optimizer=Adam(learning_rate=learning_rate), loss=MeanSquaredError(), metrics=['mae'])\n",
    "\n",
    "  # Melatih model dengan data latih dan validasi\n",
    "  history = model.fit(\n",
    "      X_train, y_train,\n",
    "      epochs=epochs,\n",
    "      batch_size=batch_size,\n",
    "      validation_split=0.2,\n",
    "      verbose=1\n",
    "  )\n",
    "\n",
    "  # Mengambil nilai minimum dari val_loss selama pelatihan\n",
    "  val_loss = min(history.history['val_loss'])\n",
    "\n",
    "  # Mengembalikan nilai val_loss sebagai hasil optimasi\n",
    "  return val_loss"
   ]
  },
  {
   "cell_type": "code",
   "execution_count": 18,
   "metadata": {
    "execution": {
     "iopub.execute_input": "2025-08-09T06:38:30.515215Z",
     "iopub.status.busy": "2025-08-09T06:38:30.514516Z",
     "iopub.status.idle": "2025-08-09T06:54:17.326507Z",
     "shell.execute_reply": "2025-08-09T06:54:17.325916Z",
     "shell.execute_reply.started": "2025-08-09T06:38:30.515187Z"
    },
    "trusted": true
   },
   "outputs": [
    {
     "name": "stderr",
     "output_type": "stream",
     "text": [
      "[I 2025-08-11 21:25:22,023] A new study created in memory with name: no-name-a1561a41-fa32-455a-b1f3-53dc4da7770d\n"
     ]
    },
    {
     "name": "stdout",
     "output_type": "stream",
     "text": [
      "Epoch 1/10\n"
     ]
    },
    {
     "name": "stderr",
     "output_type": "stream",
     "text": [
      "c:\\Users\\Muhammad Mahdi\\anaconda3\\envs\\prediksi-polusi\\lib\\site-packages\\keras\\src\\layers\\rnn\\rnn.py:199: UserWarning: Do not pass an `input_shape`/`input_dim` argument to a layer. When using Sequential models, prefer using an `Input(shape)` object as the first layer in the model instead.\n",
      "  super().__init__(**kwargs)\n"
     ]
    },
    {
     "name": "stdout",
     "output_type": "stream",
     "text": [
      "\u001b[1m347/347\u001b[0m \u001b[32m━━━━━━━━━━━━━━━━━━━━\u001b[0m\u001b[37m\u001b[0m \u001b[1m7s\u001b[0m 13ms/step - loss: 0.0184 - mae: 0.0898 - val_loss: 0.0028 - val_mae: 0.0348\n",
      "Epoch 2/10\n",
      "\u001b[1m347/347\u001b[0m \u001b[32m━━━━━━━━━━━━━━━━━━━━\u001b[0m\u001b[37m\u001b[0m \u001b[1m4s\u001b[0m 12ms/step - loss: 0.0029 - mae: 0.0347 - val_loss: 0.0025 - val_mae: 0.0319\n",
      "Epoch 3/10\n",
      "\u001b[1m347/347\u001b[0m \u001b[32m━━━━━━━━━━━━━━━━━━━━\u001b[0m\u001b[37m\u001b[0m \u001b[1m4s\u001b[0m 12ms/step - loss: 0.0027 - mae: 0.0326 - val_loss: 0.0025 - val_mae: 0.0311\n",
      "Epoch 4/10\n",
      "\u001b[1m347/347\u001b[0m \u001b[32m━━━━━━━━━━━━━━━━━━━━\u001b[0m\u001b[37m\u001b[0m \u001b[1m4s\u001b[0m 12ms/step - loss: 0.0024 - mae: 0.0310 - val_loss: 0.0023 - val_mae: 0.0299\n",
      "Epoch 5/10\n",
      "\u001b[1m347/347\u001b[0m \u001b[32m━━━━━━━━━━━━━━━━━━━━\u001b[0m\u001b[37m\u001b[0m \u001b[1m4s\u001b[0m 13ms/step - loss: 0.0024 - mae: 0.0305 - val_loss: 0.0023 - val_mae: 0.0302\n",
      "Epoch 6/10\n",
      "\u001b[1m347/347\u001b[0m \u001b[32m━━━━━━━━━━━━━━━━━━━━\u001b[0m\u001b[37m\u001b[0m \u001b[1m5s\u001b[0m 14ms/step - loss: 0.0024 - mae: 0.0305 - val_loss: 0.0023 - val_mae: 0.0296\n",
      "Epoch 7/10\n",
      "\u001b[1m347/347\u001b[0m \u001b[32m━━━━━━━━━━━━━━━━━━━━\u001b[0m\u001b[37m\u001b[0m \u001b[1m5s\u001b[0m 13ms/step - loss: 0.0024 - mae: 0.0298 - val_loss: 0.0022 - val_mae: 0.0290\n",
      "Epoch 8/10\n",
      "\u001b[1m347/347\u001b[0m \u001b[32m━━━━━━━━━━━━━━━━━━━━\u001b[0m\u001b[37m\u001b[0m \u001b[1m5s\u001b[0m 14ms/step - loss: 0.0023 - mae: 0.0297 - val_loss: 0.0023 - val_mae: 0.0293\n",
      "Epoch 9/10\n",
      "\u001b[1m347/347\u001b[0m \u001b[32m━━━━━━━━━━━━━━━━━━━━\u001b[0m\u001b[37m\u001b[0m \u001b[1m4s\u001b[0m 13ms/step - loss: 0.0023 - mae: 0.0296 - val_loss: 0.0022 - val_mae: 0.0286\n",
      "Epoch 10/10\n",
      "\u001b[1m347/347\u001b[0m \u001b[32m━━━━━━━━━━━━━━━━━━━━\u001b[0m\u001b[37m\u001b[0m \u001b[1m4s\u001b[0m 12ms/step - loss: 0.0023 - mae: 0.0294 - val_loss: 0.0021 - val_mae: 0.0279\n"
     ]
    },
    {
     "name": "stderr",
     "output_type": "stream",
     "text": [
      "[I 2025-08-11 21:26:09,252] Trial 0 finished with value: 0.0021187160164117813 and parameters: {'units': 128, 'dropout': 0.0, 'learning_rate': 0.0005, 'activation': 'relu', 'batch_size': 32, 'epochs': 10}. Best is trial 0 with value: 0.0021187160164117813.\n"
     ]
    },
    {
     "name": "stdout",
     "output_type": "stream",
     "text": [
      "Epoch 1/10\n",
      "\u001b[1m347/347\u001b[0m \u001b[32m━━━━━━━━━━━━━━━━━━━━\u001b[0m\u001b[37m\u001b[0m \u001b[1m6s\u001b[0m 12ms/step - loss: 0.0213 - mae: 0.1073 - val_loss: 0.0050 - val_mae: 0.0515\n",
      "Epoch 2/10\n",
      "\u001b[1m347/347\u001b[0m \u001b[32m━━━━━━━━━━━━━━━━━━━━\u001b[0m\u001b[37m\u001b[0m \u001b[1m3s\u001b[0m 10ms/step - loss: 0.0082 - mae: 0.0658 - val_loss: 0.0041 - val_mae: 0.0461\n",
      "Epoch 3/10\n",
      "\u001b[1m347/347\u001b[0m \u001b[32m━━━━━━━━━━━━━━━━━━━━\u001b[0m\u001b[37m\u001b[0m \u001b[1m2s\u001b[0m 7ms/step - loss: 0.0067 - mae: 0.0594 - val_loss: 0.0038 - val_mae: 0.0438\n",
      "Epoch 4/10\n",
      "\u001b[1m347/347\u001b[0m \u001b[32m━━━━━━━━━━━━━━━━━━━━\u001b[0m\u001b[37m\u001b[0m \u001b[1m2s\u001b[0m 7ms/step - loss: 0.0059 - mae: 0.0564 - val_loss: 0.0036 - val_mae: 0.0426\n",
      "Epoch 5/10\n",
      "\u001b[1m347/347\u001b[0m \u001b[32m━━━━━━━━━━━━━━━━━━━━\u001b[0m\u001b[37m\u001b[0m \u001b[1m3s\u001b[0m 8ms/step - loss: 0.0056 - mae: 0.0549 - val_loss: 0.0033 - val_mae: 0.0412\n",
      "Epoch 6/10\n",
      "\u001b[1m347/347\u001b[0m \u001b[32m━━━━━━━━━━━━━━━━━━━━\u001b[0m\u001b[37m\u001b[0m \u001b[1m3s\u001b[0m 7ms/step - loss: 0.0055 - mae: 0.0542 - val_loss: 0.0032 - val_mae: 0.0397\n",
      "Epoch 7/10\n",
      "\u001b[1m347/347\u001b[0m \u001b[32m━━━━━━━━━━━━━━━━━━━━\u001b[0m\u001b[37m\u001b[0m \u001b[1m3s\u001b[0m 7ms/step - loss: 0.0054 - mae: 0.0536 - val_loss: 0.0032 - val_mae: 0.0395\n",
      "Epoch 8/10\n",
      "\u001b[1m347/347\u001b[0m \u001b[32m━━━━━━━━━━━━━━━━━━━━\u001b[0m\u001b[37m\u001b[0m \u001b[1m3s\u001b[0m 7ms/step - loss: 0.0052 - mae: 0.0526 - val_loss: 0.0032 - val_mae: 0.0393\n",
      "Epoch 9/10\n",
      "\u001b[1m347/347\u001b[0m \u001b[32m━━━━━━━━━━━━━━━━━━━━\u001b[0m\u001b[37m\u001b[0m \u001b[1m3s\u001b[0m 9ms/step - loss: 0.0051 - mae: 0.0518 - val_loss: 0.0030 - val_mae: 0.0374\n",
      "Epoch 10/10\n",
      "\u001b[1m347/347\u001b[0m \u001b[32m━━━━━━━━━━━━━━━━━━━━\u001b[0m\u001b[37m\u001b[0m \u001b[1m3s\u001b[0m 8ms/step - loss: 0.0050 - mae: 0.0514 - val_loss: 0.0031 - val_mae: 0.0385\n"
     ]
    },
    {
     "name": "stderr",
     "output_type": "stream",
     "text": [
      "[I 2025-08-11 21:26:39,837] Trial 1 finished with value: 0.0029673795215785503 and parameters: {'units': 32, 'dropout': 0.4, 'learning_rate': 0.0005, 'activation': 'relu', 'batch_size': 32, 'epochs': 10}. Best is trial 0 with value: 0.0021187160164117813.\n"
     ]
    },
    {
     "name": "stdout",
     "output_type": "stream",
     "text": [
      "Epoch 1/10\n",
      "\u001b[1m174/174\u001b[0m \u001b[32m━━━━━━━━━━━━━━━━━━━━\u001b[0m\u001b[37m\u001b[0m \u001b[1m4s\u001b[0m 10ms/step - loss: 0.0263 - mae: 0.1194 - val_loss: 0.0042 - val_mae: 0.0450\n",
      "Epoch 2/10\n",
      "\u001b[1m174/174\u001b[0m \u001b[32m━━━━━━━━━━━━━━━━━━━━\u001b[0m\u001b[37m\u001b[0m \u001b[1m2s\u001b[0m 9ms/step - loss: 0.0060 - mae: 0.0554 - val_loss: 0.0034 - val_mae: 0.0396\n",
      "Epoch 3/10\n",
      "\u001b[1m174/174\u001b[0m \u001b[32m━━━━━━━━━━━━━━━━━━━━\u001b[0m\u001b[37m\u001b[0m \u001b[1m1s\u001b[0m 8ms/step - loss: 0.0049 - mae: 0.0501 - val_loss: 0.0032 - val_mae: 0.0385\n",
      "Epoch 4/10\n",
      "\u001b[1m174/174\u001b[0m \u001b[32m━━━━━━━━━━━━━━━━━━━━\u001b[0m\u001b[37m\u001b[0m \u001b[1m1s\u001b[0m 8ms/step - loss: 0.0044 - mae: 0.0472 - val_loss: 0.0028 - val_mae: 0.0352\n",
      "Epoch 5/10\n",
      "\u001b[1m174/174\u001b[0m \u001b[32m━━━━━━━━━━━━━━━━━━━━\u001b[0m\u001b[37m\u001b[0m \u001b[1m1s\u001b[0m 8ms/step - loss: 0.0041 - mae: 0.0451 - val_loss: 0.0028 - val_mae: 0.0351\n",
      "Epoch 6/10\n",
      "\u001b[1m174/174\u001b[0m \u001b[32m━━━━━━━━━━━━━━━━━━━━\u001b[0m\u001b[37m\u001b[0m \u001b[1m1s\u001b[0m 8ms/step - loss: 0.0039 - mae: 0.0439 - val_loss: 0.0027 - val_mae: 0.0342\n",
      "Epoch 7/10\n",
      "\u001b[1m174/174\u001b[0m \u001b[32m━━━━━━━━━━━━━━━━━━━━\u001b[0m\u001b[37m\u001b[0m \u001b[1m1s\u001b[0m 8ms/step - loss: 0.0039 - mae: 0.0433 - val_loss: 0.0030 - val_mae: 0.0357\n",
      "Epoch 8/10\n",
      "\u001b[1m174/174\u001b[0m \u001b[32m━━━━━━━━━━━━━━━━━━━━\u001b[0m\u001b[37m\u001b[0m \u001b[1m1s\u001b[0m 8ms/step - loss: 0.0037 - mae: 0.0423 - val_loss: 0.0027 - val_mae: 0.0336\n",
      "Epoch 9/10\n",
      "\u001b[1m174/174\u001b[0m \u001b[32m━━━━━━━━━━━━━━━━━━━━\u001b[0m\u001b[37m\u001b[0m \u001b[1m1s\u001b[0m 8ms/step - loss: 0.0036 - mae: 0.0417 - val_loss: 0.0027 - val_mae: 0.0336\n",
      "Epoch 10/10\n",
      "\u001b[1m174/174\u001b[0m \u001b[32m━━━━━━━━━━━━━━━━━━━━\u001b[0m\u001b[37m\u001b[0m \u001b[1m1s\u001b[0m 8ms/step - loss: 0.0035 - mae: 0.0411 - val_loss: 0.0025 - val_mae: 0.0324\n"
     ]
    },
    {
     "name": "stderr",
     "output_type": "stream",
     "text": [
      "[I 2025-08-11 21:26:57,711] Trial 2 finished with value: 0.002516326727345586 and parameters: {'units': 32, 'dropout': 0.2, 'learning_rate': 0.001, 'activation': 'relu', 'batch_size': 64, 'epochs': 10}. Best is trial 0 with value: 0.0021187160164117813.\n"
     ]
    },
    {
     "name": "stdout",
     "output_type": "stream",
     "text": [
      "Epoch 1/10\n",
      "\u001b[1m174/174\u001b[0m \u001b[32m━━━━━━━━━━━━━━━━━━━━\u001b[0m\u001b[37m\u001b[0m \u001b[1m6s\u001b[0m 22ms/step - loss: 0.0196 - mae: 0.0991 - val_loss: 0.0039 - val_mae: 0.0417\n",
      "Epoch 2/10\n",
      "\u001b[1m174/174\u001b[0m \u001b[32m━━━━━━━━━━━━━━━━━━━━\u001b[0m\u001b[37m\u001b[0m \u001b[1m4s\u001b[0m 21ms/step - loss: 0.0053 - mae: 0.0513 - val_loss: 0.0030 - val_mae: 0.0360\n",
      "Epoch 3/10\n",
      "\u001b[1m174/174\u001b[0m \u001b[32m━━━━━━━━━━━━━━━━━━━━\u001b[0m\u001b[37m\u001b[0m \u001b[1m4s\u001b[0m 21ms/step - loss: 0.0044 - mae: 0.0464 - val_loss: 0.0027 - val_mae: 0.0338\n",
      "Epoch 4/10\n",
      "\u001b[1m174/174\u001b[0m \u001b[32m━━━━━━━━━━━━━━━━━━━━\u001b[0m\u001b[37m\u001b[0m \u001b[1m4s\u001b[0m 21ms/step - loss: 0.0041 - mae: 0.0443 - val_loss: 0.0028 - val_mae: 0.0337\n",
      "Epoch 5/10\n",
      "\u001b[1m174/174\u001b[0m \u001b[32m━━━━━━━━━━━━━━━━━━━━\u001b[0m\u001b[37m\u001b[0m \u001b[1m3s\u001b[0m 19ms/step - loss: 0.0038 - mae: 0.0426 - val_loss: 0.0025 - val_mae: 0.0328\n",
      "Epoch 6/10\n",
      "\u001b[1m174/174\u001b[0m \u001b[32m━━━━━━━━━━━━━━━━━━━━\u001b[0m\u001b[37m\u001b[0m \u001b[1m3s\u001b[0m 19ms/step - loss: 0.0036 - mae: 0.0413 - val_loss: 0.0025 - val_mae: 0.0320\n",
      "Epoch 7/10\n",
      "\u001b[1m174/174\u001b[0m \u001b[32m━━━━━━━━━━━━━━━━━━━━\u001b[0m\u001b[37m\u001b[0m \u001b[1m3s\u001b[0m 19ms/step - loss: 0.0036 - mae: 0.0408 - val_loss: 0.0024 - val_mae: 0.0315\n",
      "Epoch 8/10\n",
      "\u001b[1m174/174\u001b[0m \u001b[32m━━━━━━━━━━━━━━━━━━━━\u001b[0m\u001b[37m\u001b[0m \u001b[1m3s\u001b[0m 19ms/step - loss: 0.0034 - mae: 0.0397 - val_loss: 0.0024 - val_mae: 0.0315\n",
      "Epoch 9/10\n",
      "\u001b[1m174/174\u001b[0m \u001b[32m━━━━━━━━━━━━━━━━━━━━\u001b[0m\u001b[37m\u001b[0m \u001b[1m3s\u001b[0m 19ms/step - loss: 0.0033 - mae: 0.0392 - val_loss: 0.0023 - val_mae: 0.0305\n",
      "Epoch 10/10\n",
      "\u001b[1m174/174\u001b[0m \u001b[32m━━━━━━━━━━━━━━━━━━━━\u001b[0m\u001b[37m\u001b[0m \u001b[1m4s\u001b[0m 20ms/step - loss: 0.0032 - mae: 0.0386 - val_loss: 0.0024 - val_mae: 0.0307\n"
     ]
    },
    {
     "name": "stderr",
     "output_type": "stream",
     "text": [
      "[I 2025-08-11 21:27:35,247] Trial 3 finished with value: 0.0023278766311705112 and parameters: {'units': 128, 'dropout': 0.4, 'learning_rate': 0.0005, 'activation': 'relu', 'batch_size': 64, 'epochs': 10}. Best is trial 0 with value: 0.0021187160164117813.\n"
     ]
    },
    {
     "name": "stdout",
     "output_type": "stream",
     "text": [
      "Epoch 1/10\n",
      "\u001b[1m174/174\u001b[0m \u001b[32m━━━━━━━━━━━━━━━━━━━━\u001b[0m\u001b[37m\u001b[0m \u001b[1m6s\u001b[0m 21ms/step - loss: 0.0110 - mae: 0.0663 - val_loss: 0.0027 - val_mae: 0.0350\n",
      "Epoch 2/10\n",
      "\u001b[1m174/174\u001b[0m \u001b[32m━━━━━━━━━━━━━━━━━━━━\u001b[0m\u001b[37m\u001b[0m \u001b[1m3s\u001b[0m 19ms/step - loss: 0.0028 - mae: 0.0341 - val_loss: 0.0025 - val_mae: 0.0309\n",
      "Epoch 3/10\n",
      "\u001b[1m174/174\u001b[0m \u001b[32m━━━━━━━━━━━━━━━━━━━━\u001b[0m\u001b[37m\u001b[0m \u001b[1m3s\u001b[0m 19ms/step - loss: 0.0026 - mae: 0.0323 - val_loss: 0.0026 - val_mae: 0.0317\n",
      "Epoch 4/10\n",
      "\u001b[1m174/174\u001b[0m \u001b[32m━━━━━━━━━━━━━━━━━━━━\u001b[0m\u001b[37m\u001b[0m \u001b[1m3s\u001b[0m 19ms/step - loss: 0.0026 - mae: 0.0317 - val_loss: 0.0023 - val_mae: 0.0305\n",
      "Epoch 5/10\n",
      "\u001b[1m174/174\u001b[0m \u001b[32m━━━━━━━━━━━━━━━━━━━━\u001b[0m\u001b[37m\u001b[0m \u001b[1m3s\u001b[0m 19ms/step - loss: 0.0025 - mae: 0.0311 - val_loss: 0.0024 - val_mae: 0.0300\n",
      "Epoch 6/10\n",
      "\u001b[1m174/174\u001b[0m \u001b[32m━━━━━━━━━━━━━━━━━━━━\u001b[0m\u001b[37m\u001b[0m \u001b[1m3s\u001b[0m 19ms/step - loss: 0.0025 - mae: 0.0308 - val_loss: 0.0023 - val_mae: 0.0297\n",
      "Epoch 7/10\n",
      "\u001b[1m174/174\u001b[0m \u001b[32m━━━━━━━━━━━━━━━━━━━━\u001b[0m\u001b[37m\u001b[0m \u001b[1m4s\u001b[0m 22ms/step - loss: 0.0024 - mae: 0.0311 - val_loss: 0.0023 - val_mae: 0.0299\n",
      "Epoch 8/10\n",
      "\u001b[1m174/174\u001b[0m \u001b[32m━━━━━━━━━━━━━━━━━━━━\u001b[0m\u001b[37m\u001b[0m \u001b[1m3s\u001b[0m 18ms/step - loss: 0.0024 - mae: 0.0300 - val_loss: 0.0022 - val_mae: 0.0284\n",
      "Epoch 9/10\n",
      "\u001b[1m174/174\u001b[0m \u001b[32m━━━━━━━━━━━━━━━━━━━━\u001b[0m\u001b[37m\u001b[0m \u001b[1m3s\u001b[0m 18ms/step - loss: 0.0025 - mae: 0.0305 - val_loss: 0.0023 - val_mae: 0.0304\n",
      "Epoch 10/10\n",
      "\u001b[1m174/174\u001b[0m \u001b[32m━━━━━━━━━━━━━━━━━━━━\u001b[0m\u001b[37m\u001b[0m \u001b[1m3s\u001b[0m 18ms/step - loss: 0.0024 - mae: 0.0306 - val_loss: 0.0022 - val_mae: 0.0292\n"
     ]
    },
    {
     "name": "stderr",
     "output_type": "stream",
     "text": [
      "[I 2025-08-11 21:28:10,892] Trial 4 finished with value: 0.0021981464233249426 and parameters: {'units': 128, 'dropout': 0.0, 'learning_rate': 0.001, 'activation': 'tanh', 'batch_size': 64, 'epochs': 10}. Best is trial 0 with value: 0.0021187160164117813.\n"
     ]
    },
    {
     "name": "stdout",
     "output_type": "stream",
     "text": [
      "Epoch 1/10\n",
      "\u001b[1m347/347\u001b[0m \u001b[32m━━━━━━━━━━━━━━━━━━━━\u001b[0m\u001b[37m\u001b[0m \u001b[1m5s\u001b[0m 9ms/step - loss: 0.0177 - mae: 0.0944 - val_loss: 0.0037 - val_mae: 0.0405\n",
      "Epoch 2/10\n",
      "\u001b[1m347/347\u001b[0m \u001b[32m━━━━━━━━━━━━━━━━━━━━\u001b[0m\u001b[37m\u001b[0m \u001b[1m3s\u001b[0m 8ms/step - loss: 0.0048 - mae: 0.0484 - val_loss: 0.0029 - val_mae: 0.0349\n",
      "Epoch 3/10\n",
      "\u001b[1m347/347\u001b[0m \u001b[32m━━━━━━━━━━━━━━━━━━━━\u001b[0m\u001b[37m\u001b[0m \u001b[1m3s\u001b[0m 10ms/step - loss: 0.0039 - mae: 0.0431 - val_loss: 0.0026 - val_mae: 0.0330\n",
      "Epoch 4/10\n",
      "\u001b[1m347/347\u001b[0m \u001b[32m━━━━━━━━━━━━━━━━━━━━\u001b[0m\u001b[37m\u001b[0m \u001b[1m3s\u001b[0m 9ms/step - loss: 0.0037 - mae: 0.0415 - val_loss: 0.0025 - val_mae: 0.0319\n",
      "Epoch 5/10\n",
      "\u001b[1m347/347\u001b[0m \u001b[32m━━━━━━━━━━━━━━━━━━━━\u001b[0m\u001b[37m\u001b[0m \u001b[1m3s\u001b[0m 9ms/step - loss: 0.0034 - mae: 0.0397 - val_loss: 0.0024 - val_mae: 0.0316\n",
      "Epoch 6/10\n",
      "\u001b[1m347/347\u001b[0m \u001b[32m━━━━━━━━━━━━━━━━━━━━\u001b[0m\u001b[37m\u001b[0m \u001b[1m3s\u001b[0m 9ms/step - loss: 0.0032 - mae: 0.0389 - val_loss: 0.0024 - val_mae: 0.0315\n",
      "Epoch 7/10\n",
      "\u001b[1m347/347\u001b[0m \u001b[32m━━━━━━━━━━━━━━━━━━━━\u001b[0m\u001b[37m\u001b[0m \u001b[1m3s\u001b[0m 8ms/step - loss: 0.0032 - mae: 0.0382 - val_loss: 0.0024 - val_mae: 0.0309\n",
      "Epoch 8/10\n",
      "\u001b[1m347/347\u001b[0m \u001b[32m━━━━━━━━━━━━━━━━━━━━\u001b[0m\u001b[37m\u001b[0m \u001b[1m3s\u001b[0m 9ms/step - loss: 0.0031 - mae: 0.0377 - val_loss: 0.0023 - val_mae: 0.0303\n",
      "Epoch 9/10\n",
      "\u001b[1m347/347\u001b[0m \u001b[32m━━━━━━━━━━━━━━━━━━━━\u001b[0m\u001b[37m\u001b[0m \u001b[1m3s\u001b[0m 9ms/step - loss: 0.0030 - mae: 0.0373 - val_loss: 0.0024 - val_mae: 0.0312\n",
      "Epoch 10/10\n",
      "\u001b[1m347/347\u001b[0m \u001b[32m━━━━━━━━━━━━━━━━━━━━\u001b[0m\u001b[37m\u001b[0m \u001b[1m3s\u001b[0m 8ms/step - loss: 0.0030 - mae: 0.0372 - val_loss: 0.0024 - val_mae: 0.0306\n"
     ]
    },
    {
     "name": "stderr",
     "output_type": "stream",
     "text": [
      "[I 2025-08-11 21:28:43,884] Trial 5 finished with value: 0.0023233527317643166 and parameters: {'units': 64, 'dropout': 0.2, 'learning_rate': 0.0005, 'activation': 'relu', 'batch_size': 32, 'epochs': 10}. Best is trial 0 with value: 0.0021187160164117813.\n"
     ]
    },
    {
     "name": "stdout",
     "output_type": "stream",
     "text": [
      "Epoch 1/10\n",
      "\u001b[1m347/347\u001b[0m \u001b[32m━━━━━━━━━━━━━━━━━━━━\u001b[0m\u001b[37m\u001b[0m \u001b[1m7s\u001b[0m 14ms/step - loss: 0.0140 - mae: 0.0801 - val_loss: 0.0030 - val_mae: 0.0363\n",
      "Epoch 2/10\n",
      "\u001b[1m347/347\u001b[0m \u001b[32m━━━━━━━━━━━━━━━━━━━━\u001b[0m\u001b[37m\u001b[0m \u001b[1m5s\u001b[0m 13ms/step - loss: 0.0038 - mae: 0.0422 - val_loss: 0.0025 - val_mae: 0.0324\n",
      "Epoch 3/10\n",
      "\u001b[1m347/347\u001b[0m \u001b[32m━━━━━━━━━━━━━━━━━━━━\u001b[0m\u001b[37m\u001b[0m \u001b[1m5s\u001b[0m 15ms/step - loss: 0.0033 - mae: 0.0389 - val_loss: 0.0024 - val_mae: 0.0311\n",
      "Epoch 4/10\n",
      "\u001b[1m347/347\u001b[0m \u001b[32m━━━━━━━━━━━━━━━━━━━━\u001b[0m\u001b[37m\u001b[0m \u001b[1m4s\u001b[0m 13ms/step - loss: 0.0031 - mae: 0.0372 - val_loss: 0.0024 - val_mae: 0.0305\n",
      "Epoch 5/10\n",
      "\u001b[1m347/347\u001b[0m \u001b[32m━━━━━━━━━━━━━━━━━━━━\u001b[0m\u001b[37m\u001b[0m \u001b[1m4s\u001b[0m 13ms/step - loss: 0.0030 - mae: 0.0362 - val_loss: 0.0023 - val_mae: 0.0303\n",
      "Epoch 6/10\n",
      "\u001b[1m347/347\u001b[0m \u001b[32m━━━━━━━━━━━━━━━━━━━━\u001b[0m\u001b[37m\u001b[0m \u001b[1m5s\u001b[0m 15ms/step - loss: 0.0029 - mae: 0.0357 - val_loss: 0.0023 - val_mae: 0.0302\n",
      "Epoch 7/10\n",
      "\u001b[1m347/347\u001b[0m \u001b[32m━━━━━━━━━━━━━━━━━━━━\u001b[0m\u001b[37m\u001b[0m \u001b[1m5s\u001b[0m 14ms/step - loss: 0.0028 - mae: 0.0347 - val_loss: 0.0023 - val_mae: 0.0296\n",
      "Epoch 8/10\n",
      "\u001b[1m347/347\u001b[0m \u001b[32m━━━━━━━━━━━━━━━━━━━━\u001b[0m\u001b[37m\u001b[0m \u001b[1m5s\u001b[0m 13ms/step - loss: 0.0028 - mae: 0.0348 - val_loss: 0.0022 - val_mae: 0.0295\n",
      "Epoch 9/10\n",
      "\u001b[1m347/347\u001b[0m \u001b[32m━━━━━━━━━━━━━━━━━━━━\u001b[0m\u001b[37m\u001b[0m \u001b[1m5s\u001b[0m 13ms/step - loss: 0.0027 - mae: 0.0340 - val_loss: 0.0022 - val_mae: 0.0287\n",
      "Epoch 10/10\n",
      "\u001b[1m347/347\u001b[0m \u001b[32m━━━━━━━━━━━━━━━━━━━━\u001b[0m\u001b[37m\u001b[0m \u001b[1m5s\u001b[0m 14ms/step - loss: 0.0027 - mae: 0.0340 - val_loss: 0.0022 - val_mae: 0.0305\n"
     ]
    },
    {
     "name": "stderr",
     "output_type": "stream",
     "text": [
      "[I 2025-08-11 21:29:32,969] Trial 6 finished with value: 0.002191664883866906 and parameters: {'units': 128, 'dropout': 0.2, 'learning_rate': 0.0005, 'activation': 'relu', 'batch_size': 32, 'epochs': 10}. Best is trial 0 with value: 0.0021187160164117813.\n"
     ]
    },
    {
     "name": "stdout",
     "output_type": "stream",
     "text": [
      "Epoch 1/10\n",
      "\u001b[1m174/174\u001b[0m \u001b[32m━━━━━━━━━━━━━━━━━━━━\u001b[0m\u001b[37m\u001b[0m \u001b[1m4s\u001b[0m 13ms/step - loss: 0.0273 - mae: 0.1204 - val_loss: 0.0041 - val_mae: 0.0432\n",
      "Epoch 2/10\n",
      "\u001b[1m174/174\u001b[0m \u001b[32m━━━━━━━━━━━━━━━━━━━━\u001b[0m\u001b[37m\u001b[0m \u001b[1m2s\u001b[0m 11ms/step - loss: 0.0057 - mae: 0.0530 - val_loss: 0.0034 - val_mae: 0.0380\n",
      "Epoch 3/10\n",
      "\u001b[1m174/174\u001b[0m \u001b[32m━━━━━━━━━━━━━━━━━━━━\u001b[0m\u001b[37m\u001b[0m \u001b[1m2s\u001b[0m 11ms/step - loss: 0.0044 - mae: 0.0462 - val_loss: 0.0029 - val_mae: 0.0351\n",
      "Epoch 4/10\n",
      "\u001b[1m174/174\u001b[0m \u001b[32m━━━━━━━━━━━━━━━━━━━━\u001b[0m\u001b[37m\u001b[0m \u001b[1m2s\u001b[0m 12ms/step - loss: 0.0040 - mae: 0.0438 - val_loss: 0.0026 - val_mae: 0.0336\n",
      "Epoch 5/10\n",
      "\u001b[1m174/174\u001b[0m \u001b[32m━━━━━━━━━━━━━━━━━━━━\u001b[0m\u001b[37m\u001b[0m \u001b[1m2s\u001b[0m 11ms/step - loss: 0.0037 - mae: 0.0419 - val_loss: 0.0025 - val_mae: 0.0324\n",
      "Epoch 6/10\n",
      "\u001b[1m174/174\u001b[0m \u001b[32m━━━━━━━━━━━━━━━━━━━━\u001b[0m\u001b[37m\u001b[0m \u001b[1m2s\u001b[0m 11ms/step - loss: 0.0035 - mae: 0.0407 - val_loss: 0.0025 - val_mae: 0.0336\n",
      "Epoch 7/10\n",
      "\u001b[1m174/174\u001b[0m \u001b[32m━━━━━━━━━━━━━━━━━━━━\u001b[0m\u001b[37m\u001b[0m \u001b[1m2s\u001b[0m 13ms/step - loss: 0.0035 - mae: 0.0400 - val_loss: 0.0025 - val_mae: 0.0321\n",
      "Epoch 8/10\n",
      "\u001b[1m174/174\u001b[0m \u001b[32m━━━━━━━━━━━━━━━━━━━━\u001b[0m\u001b[37m\u001b[0m \u001b[1m2s\u001b[0m 11ms/step - loss: 0.0033 - mae: 0.0392 - val_loss: 0.0024 - val_mae: 0.0318\n",
      "Epoch 9/10\n",
      "\u001b[1m174/174\u001b[0m \u001b[32m━━━━━━━━━━━━━━━━━━━━\u001b[0m\u001b[37m\u001b[0m \u001b[1m2s\u001b[0m 11ms/step - loss: 0.0032 - mae: 0.0384 - val_loss: 0.0025 - val_mae: 0.0314\n",
      "Epoch 10/10\n",
      "\u001b[1m174/174\u001b[0m \u001b[32m━━━━━━━━━━━━━━━━━━━━\u001b[0m\u001b[37m\u001b[0m \u001b[1m2s\u001b[0m 11ms/step - loss: 0.0033 - mae: 0.0385 - val_loss: 0.0024 - val_mae: 0.0305\n"
     ]
    },
    {
     "name": "stderr",
     "output_type": "stream",
     "text": [
      "[I 2025-08-11 21:29:55,681] Trial 7 finished with value: 0.0023594843223690987 and parameters: {'units': 64, 'dropout': 0.2, 'learning_rate': 0.0005, 'activation': 'relu', 'batch_size': 64, 'epochs': 10}. Best is trial 0 with value: 0.0021187160164117813.\n"
     ]
    },
    {
     "name": "stdout",
     "output_type": "stream",
     "text": [
      "Epoch 1/10\n",
      "\u001b[1m174/174\u001b[0m \u001b[32m━━━━━━━━━━━━━━━━━━━━\u001b[0m\u001b[37m\u001b[0m \u001b[1m5s\u001b[0m 18ms/step - loss: 0.0212 - mae: 0.1057 - val_loss: 0.0043 - val_mae: 0.0430\n",
      "Epoch 2/10\n",
      "\u001b[1m174/174\u001b[0m \u001b[32m━━━━━━━━━━━━━━━━━━━━\u001b[0m\u001b[37m\u001b[0m \u001b[1m2s\u001b[0m 11ms/step - loss: 0.0058 - mae: 0.0534 - val_loss: 0.0032 - val_mae: 0.0367\n",
      "Epoch 3/10\n",
      "\u001b[1m174/174\u001b[0m \u001b[32m━━━━━━━━━━━━━━━━━━━━\u001b[0m\u001b[37m\u001b[0m \u001b[1m2s\u001b[0m 11ms/step - loss: 0.0045 - mae: 0.0471 - val_loss: 0.0028 - val_mae: 0.0347\n",
      "Epoch 4/10\n",
      "\u001b[1m174/174\u001b[0m \u001b[32m━━━━━━━━━━━━━━━━━━━━\u001b[0m\u001b[37m\u001b[0m \u001b[1m2s\u001b[0m 11ms/step - loss: 0.0040 - mae: 0.0440 - val_loss: 0.0027 - val_mae: 0.0337\n",
      "Epoch 5/10\n",
      "\u001b[1m174/174\u001b[0m \u001b[32m━━━━━━━━━━━━━━━━━━━━\u001b[0m\u001b[37m\u001b[0m \u001b[1m2s\u001b[0m 11ms/step - loss: 0.0037 - mae: 0.0420 - val_loss: 0.0026 - val_mae: 0.0324\n",
      "Epoch 6/10\n",
      "\u001b[1m174/174\u001b[0m \u001b[32m━━━━━━━━━━━━━━━━━━━━\u001b[0m\u001b[37m\u001b[0m \u001b[1m2s\u001b[0m 11ms/step - loss: 0.0036 - mae: 0.0413 - val_loss: 0.0026 - val_mae: 0.0330\n",
      "Epoch 7/10\n",
      "\u001b[1m174/174\u001b[0m \u001b[32m━━━━━━━━━━━━━━━━━━━━\u001b[0m\u001b[37m\u001b[0m \u001b[1m2s\u001b[0m 11ms/step - loss: 0.0034 - mae: 0.0397 - val_loss: 0.0025 - val_mae: 0.0318\n",
      "Epoch 8/10\n",
      "\u001b[1m174/174\u001b[0m \u001b[32m━━━━━━━━━━━━━━━━━━━━\u001b[0m\u001b[37m\u001b[0m \u001b[1m2s\u001b[0m 11ms/step - loss: 0.0034 - mae: 0.0396 - val_loss: 0.0024 - val_mae: 0.0317\n",
      "Epoch 9/10\n",
      "\u001b[1m174/174\u001b[0m \u001b[32m━━━━━━━━━━━━━━━━━━━━\u001b[0m\u001b[37m\u001b[0m \u001b[1m2s\u001b[0m 12ms/step - loss: 0.0032 - mae: 0.0386 - val_loss: 0.0024 - val_mae: 0.0311\n",
      "Epoch 10/10\n",
      "\u001b[1m174/174\u001b[0m \u001b[32m━━━━━━━━━━━━━━━━━━━━\u001b[0m\u001b[37m\u001b[0m \u001b[1m2s\u001b[0m 11ms/step - loss: 0.0032 - mae: 0.0383 - val_loss: 0.0024 - val_mae: 0.0315\n"
     ]
    },
    {
     "name": "stderr",
     "output_type": "stream",
     "text": [
      "[I 2025-08-11 21:30:18,678] Trial 8 finished with value: 0.0023738702293485403 and parameters: {'units': 64, 'dropout': 0.2, 'learning_rate': 0.0005, 'activation': 'relu', 'batch_size': 64, 'epochs': 10}. Best is trial 0 with value: 0.0021187160164117813.\n"
     ]
    },
    {
     "name": "stdout",
     "output_type": "stream",
     "text": [
      "Epoch 1/10\n",
      "\u001b[1m347/347\u001b[0m \u001b[32m━━━━━━━━━━━━━━━━━━━━\u001b[0m\u001b[37m\u001b[0m \u001b[1m6s\u001b[0m 9ms/step - loss: 0.0201 - mae: 0.1025 - val_loss: 0.0042 - val_mae: 0.0473\n",
      "Epoch 2/10\n",
      "\u001b[1m347/347\u001b[0m \u001b[32m━━━━━━━━━━━━━━━━━━━━\u001b[0m\u001b[37m\u001b[0m \u001b[1m3s\u001b[0m 8ms/step - loss: 0.0072 - mae: 0.0622 - val_loss: 0.0038 - val_mae: 0.0451\n",
      "Epoch 3/10\n",
      "\u001b[1m347/347\u001b[0m \u001b[32m━━━━━━━━━━━━━━━━━━━━\u001b[0m\u001b[37m\u001b[0m \u001b[1m3s\u001b[0m 8ms/step - loss: 0.0063 - mae: 0.0582 - val_loss: 0.0037 - val_mae: 0.0436\n",
      "Epoch 4/10\n",
      "\u001b[1m347/347\u001b[0m \u001b[32m━━━━━━━━━━━━━━━━━━━━\u001b[0m\u001b[37m\u001b[0m \u001b[1m3s\u001b[0m 7ms/step - loss: 0.0058 - mae: 0.0555 - val_loss: 0.0033 - val_mae: 0.0410\n",
      "Epoch 5/10\n",
      "\u001b[1m347/347\u001b[0m \u001b[32m━━━━━━━━━━━━━━━━━━━━\u001b[0m\u001b[37m\u001b[0m \u001b[1m3s\u001b[0m 7ms/step - loss: 0.0054 - mae: 0.0537 - val_loss: 0.0033 - val_mae: 0.0409\n",
      "Epoch 6/10\n",
      "\u001b[1m347/347\u001b[0m \u001b[32m━━━━━━━━━━━━━━━━━━━━\u001b[0m\u001b[37m\u001b[0m \u001b[1m3s\u001b[0m 7ms/step - loss: 0.0053 - mae: 0.0528 - val_loss: 0.0037 - val_mae: 0.0431\n",
      "Epoch 7/10\n",
      "\u001b[1m347/347\u001b[0m \u001b[32m━━━━━━━━━━━━━━━━━━━━\u001b[0m\u001b[37m\u001b[0m \u001b[1m3s\u001b[0m 7ms/step - loss: 0.0053 - mae: 0.0528 - val_loss: 0.0036 - val_mae: 0.0419\n",
      "Epoch 8/10\n",
      "\u001b[1m347/347\u001b[0m \u001b[32m━━━━━━━━━━━━━━━━━━━━\u001b[0m\u001b[37m\u001b[0m \u001b[1m3s\u001b[0m 8ms/step - loss: 0.0050 - mae: 0.0516 - val_loss: 0.0036 - val_mae: 0.0420\n",
      "Epoch 9/10\n",
      "\u001b[1m347/347\u001b[0m \u001b[32m━━━━━━━━━━━━━━━━━━━━\u001b[0m\u001b[37m\u001b[0m \u001b[1m3s\u001b[0m 8ms/step - loss: 0.0051 - mae: 0.0512 - val_loss: 0.0033 - val_mae: 0.0405\n",
      "Epoch 10/10\n",
      "\u001b[1m347/347\u001b[0m \u001b[32m━━━━━━━━━━━━━━━━━━━━\u001b[0m\u001b[37m\u001b[0m \u001b[1m3s\u001b[0m 8ms/step - loss: 0.0051 - mae: 0.0513 - val_loss: 0.0033 - val_mae: 0.0404\n"
     ]
    },
    {
     "name": "stderr",
     "output_type": "stream",
     "text": [
      "[I 2025-08-11 21:30:49,022] Trial 9 finished with value: 0.0032771823462098837 and parameters: {'units': 32, 'dropout': 0.4, 'learning_rate': 0.001, 'activation': 'relu', 'batch_size': 32, 'epochs': 10}. Best is trial 0 with value: 0.0021187160164117813.\n"
     ]
    },
    {
     "name": "stdout",
     "output_type": "stream",
     "text": [
      "Epoch 1/10\n",
      "\u001b[1m347/347\u001b[0m \u001b[32m━━━━━━━━━━━━━━━━━━━━\u001b[0m\u001b[37m\u001b[0m \u001b[1m7s\u001b[0m 14ms/step - loss: 0.0314 - mae: 0.1210 - val_loss: 0.0249 - val_mae: 0.0953\n",
      "Epoch 2/10\n",
      "\u001b[1m347/347\u001b[0m \u001b[32m━━━━━━━━━━━━━━━━━━━━\u001b[0m\u001b[37m\u001b[0m \u001b[1m4s\u001b[0m 13ms/step - loss: 0.0246 - mae: 0.0941 - val_loss: 0.0243 - val_mae: 0.0916\n",
      "Epoch 3/10\n",
      "\u001b[1m347/347\u001b[0m \u001b[32m━━━━━━━━━━━━━━━━━━━━\u001b[0m\u001b[37m\u001b[0m \u001b[1m5s\u001b[0m 14ms/step - loss: 0.0244 - mae: 0.0919 - val_loss: 0.0242 - val_mae: 0.0908\n",
      "Epoch 4/10\n",
      "\u001b[1m347/347\u001b[0m \u001b[32m━━━━━━━━━━━━━━━━━━━━\u001b[0m\u001b[37m\u001b[0m \u001b[1m4s\u001b[0m 12ms/step - loss: 0.0243 - mae: 0.0911 - val_loss: 0.0241 - val_mae: 0.0896\n",
      "Epoch 5/10\n",
      "\u001b[1m347/347\u001b[0m \u001b[32m━━━━━━━━━━━━━━━━━━━━\u001b[0m\u001b[37m\u001b[0m \u001b[1m4s\u001b[0m 13ms/step - loss: 0.0244 - mae: 0.0911 - val_loss: 0.0241 - val_mae: 0.0890\n",
      "Epoch 6/10\n",
      "\u001b[1m347/347\u001b[0m \u001b[32m━━━━━━━━━━━━━━━━━━━━\u001b[0m\u001b[37m\u001b[0m \u001b[1m4s\u001b[0m 12ms/step - loss: 0.0242 - mae: 0.0905 - val_loss: 0.0241 - val_mae: 0.0888\n",
      "Epoch 7/10\n",
      "\u001b[1m347/347\u001b[0m \u001b[32m━━━━━━━━━━━━━━━━━━━━\u001b[0m\u001b[37m\u001b[0m \u001b[1m4s\u001b[0m 13ms/step - loss: 0.0245 - mae: 0.0907 - val_loss: 0.0240 - val_mae: 0.0891\n",
      "Epoch 8/10\n",
      "\u001b[1m347/347\u001b[0m \u001b[32m━━━━━━━━━━━━━━━━━━━━\u001b[0m\u001b[37m\u001b[0m \u001b[1m4s\u001b[0m 12ms/step - loss: 0.0244 - mae: 0.0904 - val_loss: 0.0242 - val_mae: 0.0890\n",
      "Epoch 9/10\n",
      "\u001b[1m347/347\u001b[0m \u001b[32m━━━━━━━━━━━━━━━━━━━━\u001b[0m\u001b[37m\u001b[0m \u001b[1m4s\u001b[0m 12ms/step - loss: 0.0242 - mae: 0.0895 - val_loss: 0.0240 - val_mae: 0.0882\n",
      "Epoch 10/10\n",
      "\u001b[1m347/347\u001b[0m \u001b[32m━━━━━━━━━━━━━━━━━━━━\u001b[0m\u001b[37m\u001b[0m \u001b[1m4s\u001b[0m 12ms/step - loss: 0.0239 - mae: 0.0889 - val_loss: 0.0241 - val_mae: 0.0900\n"
     ]
    },
    {
     "name": "stderr",
     "output_type": "stream",
     "text": [
      "[I 2025-08-11 21:31:35,636] Trial 10 finished with value: 0.023985151201486588 and parameters: {'units': 128, 'dropout': 0.0, 'learning_rate': 0.0001, 'activation': 'tanh', 'batch_size': 32, 'epochs': 10}. Best is trial 0 with value: 0.0021187160164117813.\n"
     ]
    },
    {
     "name": "stdout",
     "output_type": "stream",
     "text": [
      "Epoch 1/10\n",
      "\u001b[1m347/347\u001b[0m \u001b[32m━━━━━━━━━━━━━━━━━━━━\u001b[0m\u001b[37m\u001b[0m \u001b[1m7s\u001b[0m 14ms/step - loss: 0.0306 - mae: 0.1190 - val_loss: 0.0248 - val_mae: 0.0942\n",
      "Epoch 2/10\n",
      "\u001b[1m347/347\u001b[0m \u001b[32m━━━━━━━━━━━━━━━━━━━━\u001b[0m\u001b[37m\u001b[0m \u001b[1m4s\u001b[0m 12ms/step - loss: 0.0250 - mae: 0.0947 - val_loss: 0.0244 - val_mae: 0.0917\n",
      "Epoch 3/10\n",
      "\u001b[1m347/347\u001b[0m \u001b[32m━━━━━━━━━━━━━━━━━━━━\u001b[0m\u001b[37m\u001b[0m \u001b[1m4s\u001b[0m 12ms/step - loss: 0.0216 - mae: 0.0855 - val_loss: 0.0030 - val_mae: 0.0358\n",
      "Epoch 4/10\n",
      "\u001b[1m347/347\u001b[0m \u001b[32m━━━━━━━━━━━━━━━━━━━━\u001b[0m\u001b[37m\u001b[0m \u001b[1m4s\u001b[0m 12ms/step - loss: 0.0030 - mae: 0.0357 - val_loss: 0.0027 - val_mae: 0.0333\n",
      "Epoch 5/10\n",
      "\u001b[1m347/347\u001b[0m \u001b[32m━━━━━━━━━━━━━━━━━━━━\u001b[0m\u001b[37m\u001b[0m \u001b[1m4s\u001b[0m 12ms/step - loss: 0.0028 - mae: 0.0339 - val_loss: 0.0026 - val_mae: 0.0324\n",
      "Epoch 6/10\n",
      "\u001b[1m347/347\u001b[0m \u001b[32m━━━━━━━━━━━━━━━━━━━━\u001b[0m\u001b[37m\u001b[0m \u001b[1m4s\u001b[0m 12ms/step - loss: 0.0026 - mae: 0.0329 - val_loss: 0.0025 - val_mae: 0.0317\n",
      "Epoch 7/10\n",
      "\u001b[1m347/347\u001b[0m \u001b[32m━━━━━━━━━━━━━━━━━━━━\u001b[0m\u001b[37m\u001b[0m \u001b[1m5s\u001b[0m 14ms/step - loss: 0.0026 - mae: 0.0327 - val_loss: 0.0025 - val_mae: 0.0310\n",
      "Epoch 8/10\n",
      "\u001b[1m347/347\u001b[0m \u001b[32m━━━━━━━━━━━━━━━━━━━━\u001b[0m\u001b[37m\u001b[0m \u001b[1m4s\u001b[0m 12ms/step - loss: 0.0026 - mae: 0.0321 - val_loss: 0.0024 - val_mae: 0.0313\n",
      "Epoch 9/10\n",
      "\u001b[1m347/347\u001b[0m \u001b[32m━━━━━━━━━━━━━━━━━━━━\u001b[0m\u001b[37m\u001b[0m \u001b[1m4s\u001b[0m 12ms/step - loss: 0.0025 - mae: 0.0318 - val_loss: 0.0024 - val_mae: 0.0311\n",
      "Epoch 10/10\n",
      "\u001b[1m347/347\u001b[0m \u001b[32m━━━━━━━━━━━━━━━━━━━━\u001b[0m\u001b[37m\u001b[0m \u001b[1m4s\u001b[0m 12ms/step - loss: 0.0026 - mae: 0.0318 - val_loss: 0.0024 - val_mae: 0.0304\n"
     ]
    },
    {
     "name": "stderr",
     "output_type": "stream",
     "text": [
      "[I 2025-08-11 21:32:20,508] Trial 11 finished with value: 0.002398285549134016 and parameters: {'units': 128, 'dropout': 0.0, 'learning_rate': 0.0001, 'activation': 'tanh', 'batch_size': 32, 'epochs': 10}. Best is trial 0 with value: 0.0021187160164117813.\n"
     ]
    },
    {
     "name": "stdout",
     "output_type": "stream",
     "text": [
      "Epoch 1/10\n",
      "\u001b[1m347/347\u001b[0m \u001b[32m━━━━━━━━━━━━━━━━━━━━\u001b[0m\u001b[37m\u001b[0m \u001b[1m6s\u001b[0m 13ms/step - loss: 0.0179 - mae: 0.0906 - val_loss: 0.0108 - val_mae: 0.0629\n",
      "Epoch 2/10\n",
      "\u001b[1m347/347\u001b[0m \u001b[32m━━━━━━━━━━━━━━━━━━━━\u001b[0m\u001b[37m\u001b[0m \u001b[1m4s\u001b[0m 12ms/step - loss: 0.0106 - mae: 0.0630 - val_loss: 0.0107 - val_mae: 0.0626\n",
      "Epoch 3/10\n",
      "\u001b[1m347/347\u001b[0m \u001b[32m━━━━━━━━━━━━━━━━━━━━\u001b[0m\u001b[37m\u001b[0m \u001b[1m4s\u001b[0m 12ms/step - loss: 0.0108 - mae: 0.0628 - val_loss: 0.0105 - val_mae: 0.0609\n",
      "Epoch 4/10\n",
      "\u001b[1m347/347\u001b[0m \u001b[32m━━━━━━━━━━━━━━━━━━━━\u001b[0m\u001b[37m\u001b[0m \u001b[1m4s\u001b[0m 12ms/step - loss: 0.0102 - mae: 0.0608 - val_loss: 0.0105 - val_mae: 0.0608\n",
      "Epoch 5/10\n",
      "\u001b[1m347/347\u001b[0m \u001b[32m━━━━━━━━━━━━━━━━━━━━\u001b[0m\u001b[37m\u001b[0m \u001b[1m4s\u001b[0m 12ms/step - loss: 0.0104 - mae: 0.0614 - val_loss: 0.0105 - val_mae: 0.0606\n",
      "Epoch 6/10\n",
      "\u001b[1m347/347\u001b[0m \u001b[32m━━━━━━━━━━━━━━━━━━━━\u001b[0m\u001b[37m\u001b[0m \u001b[1m4s\u001b[0m 12ms/step - loss: 0.0104 - mae: 0.0609 - val_loss: 0.0105 - val_mae: 0.0601\n",
      "Epoch 7/10\n",
      "\u001b[1m347/347\u001b[0m \u001b[32m━━━━━━━━━━━━━━━━━━━━\u001b[0m\u001b[37m\u001b[0m \u001b[1m4s\u001b[0m 12ms/step - loss: 0.0065 - mae: 0.0472 - val_loss: 0.0022 - val_mae: 0.0292\n",
      "Epoch 8/10\n",
      "\u001b[1m347/347\u001b[0m \u001b[32m━━━━━━━━━━━━━━━━━━━━\u001b[0m\u001b[37m\u001b[0m \u001b[1m4s\u001b[0m 12ms/step - loss: 0.0024 - mae: 0.0299 - val_loss: 0.0022 - val_mae: 0.0288\n",
      "Epoch 9/10\n",
      "\u001b[1m347/347\u001b[0m \u001b[32m━━━━━━━━━━━━━━━━━━━━\u001b[0m\u001b[37m\u001b[0m \u001b[1m4s\u001b[0m 12ms/step - loss: 0.0024 - mae: 0.0300 - val_loss: 0.0022 - val_mae: 0.0283\n",
      "Epoch 10/10\n",
      "\u001b[1m347/347\u001b[0m \u001b[32m━━━━━━━━━━━━━━━━━━━━\u001b[0m\u001b[37m\u001b[0m \u001b[1m4s\u001b[0m 12ms/step - loss: 0.0023 - mae: 0.0294 - val_loss: 0.0022 - val_mae: 0.0282\n"
     ]
    },
    {
     "name": "stderr",
     "output_type": "stream",
     "text": [
      "[I 2025-08-11 21:33:04,579] Trial 12 finished with value: 0.00215495890006423 and parameters: {'units': 128, 'dropout': 0.0, 'learning_rate': 0.0005, 'activation': 'relu', 'batch_size': 32, 'epochs': 10}. Best is trial 0 with value: 0.0021187160164117813.\n"
     ]
    },
    {
     "name": "stdout",
     "output_type": "stream",
     "text": [
      "Epoch 1/10\n",
      "\u001b[1m347/347\u001b[0m \u001b[32m━━━━━━━━━━━━━━━━━━━━\u001b[0m\u001b[37m\u001b[0m \u001b[1m7s\u001b[0m 15ms/step - loss: 0.0143 - mae: 0.0789 - val_loss: 0.0029 - val_mae: 0.0353\n",
      "Epoch 2/10\n",
      "\u001b[1m347/347\u001b[0m \u001b[32m━━━━━━━━━━━━━━━━━━━━\u001b[0m\u001b[37m\u001b[0m \u001b[1m4s\u001b[0m 12ms/step - loss: 0.0028 - mae: 0.0345 - val_loss: 0.0026 - val_mae: 0.0314\n",
      "Epoch 3/10\n",
      "\u001b[1m347/347\u001b[0m \u001b[32m━━━━━━━━━━━━━━━━━━━━\u001b[0m\u001b[37m\u001b[0m \u001b[1m4s\u001b[0m 12ms/step - loss: 0.0026 - mae: 0.0325 - val_loss: 0.0025 - val_mae: 0.0308\n",
      "Epoch 4/10\n",
      "\u001b[1m347/347\u001b[0m \u001b[32m━━━━━━━━━━━━━━━━━━━━\u001b[0m\u001b[37m\u001b[0m \u001b[1m4s\u001b[0m 12ms/step - loss: 0.0025 - mae: 0.0315 - val_loss: 0.0027 - val_mae: 0.0352\n",
      "Epoch 5/10\n",
      "\u001b[1m347/347\u001b[0m \u001b[32m━━━━━━━━━━━━━━━━━━━━\u001b[0m\u001b[37m\u001b[0m \u001b[1m4s\u001b[0m 13ms/step - loss: 0.0025 - mae: 0.0316 - val_loss: 0.0024 - val_mae: 0.0308\n",
      "Epoch 6/10\n",
      "\u001b[1m347/347\u001b[0m \u001b[32m━━━━━━━━━━━━━━━━━━━━\u001b[0m\u001b[37m\u001b[0m \u001b[1m4s\u001b[0m 13ms/step - loss: 0.0025 - mae: 0.0307 - val_loss: 0.0024 - val_mae: 0.0319\n",
      "Epoch 7/10\n",
      "\u001b[1m347/347\u001b[0m \u001b[32m━━━━━━━━━━━━━━━━━━━━\u001b[0m\u001b[37m\u001b[0m \u001b[1m5s\u001b[0m 13ms/step - loss: 0.0024 - mae: 0.0307 - val_loss: 0.0023 - val_mae: 0.0292\n",
      "Epoch 8/10\n",
      "\u001b[1m347/347\u001b[0m \u001b[32m━━━━━━━━━━━━━━━━━━━━\u001b[0m\u001b[37m\u001b[0m \u001b[1m4s\u001b[0m 12ms/step - loss: 0.0023 - mae: 0.0298 - val_loss: 0.0023 - val_mae: 0.0290\n",
      "Epoch 9/10\n",
      "\u001b[1m347/347\u001b[0m \u001b[32m━━━━━━━━━━━━━━━━━━━━\u001b[0m\u001b[37m\u001b[0m \u001b[1m4s\u001b[0m 13ms/step - loss: 0.0023 - mae: 0.0295 - val_loss: 0.0022 - val_mae: 0.0288\n",
      "Epoch 10/10\n",
      "\u001b[1m347/347\u001b[0m \u001b[32m━━━━━━━━━━━━━━━━━━━━\u001b[0m\u001b[37m\u001b[0m \u001b[1m5s\u001b[0m 13ms/step - loss: 0.0023 - mae: 0.0297 - val_loss: 0.0021 - val_mae: 0.0281\n"
     ]
    },
    {
     "name": "stderr",
     "output_type": "stream",
     "text": [
      "[I 2025-08-11 21:33:50,822] Trial 13 finished with value: 0.0021482198499143124 and parameters: {'units': 128, 'dropout': 0.0, 'learning_rate': 0.0005, 'activation': 'relu', 'batch_size': 32, 'epochs': 10}. Best is trial 0 with value: 0.0021187160164117813.\n"
     ]
    },
    {
     "name": "stdout",
     "output_type": "stream",
     "text": [
      "Epoch 1/10\n",
      "\u001b[1m347/347\u001b[0m \u001b[32m━━━━━━━━━━━━━━━━━━━━\u001b[0m\u001b[37m\u001b[0m \u001b[1m7s\u001b[0m 13ms/step - loss: 0.0072 - mae: 0.0544 - val_loss: 0.0029 - val_mae: 0.0348\n",
      "Epoch 2/10\n",
      "\u001b[1m347/347\u001b[0m \u001b[32m━━━━━━━━━━━━━━━━━━━━\u001b[0m\u001b[37m\u001b[0m \u001b[1m4s\u001b[0m 13ms/step - loss: 0.0028 - mae: 0.0339 - val_loss: 0.0027 - val_mae: 0.0338\n",
      "Epoch 3/10\n",
      "\u001b[1m347/347\u001b[0m \u001b[32m━━━━━━━━━━━━━━━━━━━━\u001b[0m\u001b[37m\u001b[0m \u001b[1m4s\u001b[0m 12ms/step - loss: 0.0026 - mae: 0.0323 - val_loss: 0.0025 - val_mae: 0.0315\n",
      "Epoch 4/10\n",
      "\u001b[1m347/347\u001b[0m \u001b[32m━━━━━━━━━━━━━━━━━━━━\u001b[0m\u001b[37m\u001b[0m \u001b[1m5s\u001b[0m 13ms/step - loss: 0.0025 - mae: 0.0315 - val_loss: 0.0024 - val_mae: 0.0316\n",
      "Epoch 5/10\n",
      "\u001b[1m347/347\u001b[0m \u001b[32m━━━━━━━━━━━━━━━━━━━━\u001b[0m\u001b[37m\u001b[0m \u001b[1m5s\u001b[0m 14ms/step - loss: 0.0025 - mae: 0.0311 - val_loss: 0.0023 - val_mae: 0.0294\n",
      "Epoch 6/10\n",
      "\u001b[1m347/347\u001b[0m \u001b[32m━━━━━━━━━━━━━━━━━━━━\u001b[0m\u001b[37m\u001b[0m \u001b[1m4s\u001b[0m 12ms/step - loss: 0.0025 - mae: 0.0308 - val_loss: 0.0024 - val_mae: 0.0302\n",
      "Epoch 7/10\n",
      "\u001b[1m347/347\u001b[0m \u001b[32m━━━━━━━━━━━━━━━━━━━━\u001b[0m\u001b[37m\u001b[0m \u001b[1m4s\u001b[0m 12ms/step - loss: 0.0024 - mae: 0.0307 - val_loss: 0.0023 - val_mae: 0.0299\n",
      "Epoch 8/10\n",
      "\u001b[1m347/347\u001b[0m \u001b[32m━━━━━━━━━━━━━━━━━━━━\u001b[0m\u001b[37m\u001b[0m \u001b[1m4s\u001b[0m 12ms/step - loss: 0.0024 - mae: 0.0303 - val_loss: 0.0022 - val_mae: 0.0292\n",
      "Epoch 9/10\n",
      "\u001b[1m347/347\u001b[0m \u001b[32m━━━━━━━━━━━━━━━━━━━━\u001b[0m\u001b[37m\u001b[0m \u001b[1m4s\u001b[0m 12ms/step - loss: 0.0024 - mae: 0.0298 - val_loss: 0.0022 - val_mae: 0.0289\n",
      "Epoch 10/10\n",
      "\u001b[1m347/347\u001b[0m \u001b[32m━━━━━━━━━━━━━━━━━━━━\u001b[0m\u001b[37m\u001b[0m \u001b[1m4s\u001b[0m 12ms/step - loss: 0.0024 - mae: 0.0297 - val_loss: 0.0023 - val_mae: 0.0291\n"
     ]
    },
    {
     "name": "stderr",
     "output_type": "stream",
     "text": [
      "[I 2025-08-11 21:34:36,931] Trial 14 finished with value: 0.0022247345186769962 and parameters: {'units': 128, 'dropout': 0.0, 'learning_rate': 0.0005, 'activation': 'tanh', 'batch_size': 32, 'epochs': 10}. Best is trial 0 with value: 0.0021187160164117813.\n"
     ]
    },
    {
     "name": "stdout",
     "output_type": "stream",
     "text": [
      "Epoch 1/10\n",
      "\u001b[1m347/347\u001b[0m \u001b[32m━━━━━━━━━━━━━━━━━━━━\u001b[0m\u001b[37m\u001b[0m \u001b[1m7s\u001b[0m 14ms/step - loss: 0.0235 - mae: 0.1081 - val_loss: 0.0040 - val_mae: 0.0428\n",
      "Epoch 2/10\n",
      "\u001b[1m347/347\u001b[0m \u001b[32m━━━━━━━━━━━━━━━━━━━━\u001b[0m\u001b[37m\u001b[0m \u001b[1m4s\u001b[0m 12ms/step - loss: 0.0037 - mae: 0.0408 - val_loss: 0.0030 - val_mae: 0.0361\n",
      "Epoch 3/10\n",
      "\u001b[1m347/347\u001b[0m \u001b[32m━━━━━━━━━━━━━━━━━━━━\u001b[0m\u001b[37m\u001b[0m \u001b[1m4s\u001b[0m 13ms/step - loss: 0.0029 - mae: 0.0355 - val_loss: 0.0028 - val_mae: 0.0346\n",
      "Epoch 4/10\n",
      "\u001b[1m347/347\u001b[0m \u001b[32m━━━━━━━━━━━━━━━━━━━━\u001b[0m\u001b[37m\u001b[0m \u001b[1m4s\u001b[0m 12ms/step - loss: 0.0027 - mae: 0.0336 - val_loss: 0.0027 - val_mae: 0.0356\n",
      "Epoch 5/10\n",
      "\u001b[1m347/347\u001b[0m \u001b[32m━━━━━━━━━━━━━━━━━━━━\u001b[0m\u001b[37m\u001b[0m \u001b[1m4s\u001b[0m 12ms/step - loss: 0.0026 - mae: 0.0328 - val_loss: 0.0025 - val_mae: 0.0314\n",
      "Epoch 6/10\n",
      "\u001b[1m347/347\u001b[0m \u001b[32m━━━━━━━━━━━━━━━━━━━━\u001b[0m\u001b[37m\u001b[0m \u001b[1m4s\u001b[0m 12ms/step - loss: 0.0025 - mae: 0.0319 - val_loss: 0.0024 - val_mae: 0.0306\n",
      "Epoch 7/10\n",
      "\u001b[1m347/347\u001b[0m \u001b[32m━━━━━━━━━━━━━━━━━━━━\u001b[0m\u001b[37m\u001b[0m \u001b[1m4s\u001b[0m 12ms/step - loss: 0.0026 - mae: 0.0319 - val_loss: 0.0024 - val_mae: 0.0307\n",
      "Epoch 8/10\n",
      "\u001b[1m347/347\u001b[0m \u001b[32m━━━━━━━━━━━━━━━━━━━━\u001b[0m\u001b[37m\u001b[0m \u001b[1m5s\u001b[0m 14ms/step - loss: 0.0025 - mae: 0.0313 - val_loss: 0.0023 - val_mae: 0.0296\n",
      "Epoch 9/10\n",
      "\u001b[1m347/347\u001b[0m \u001b[32m━━━━━━━━━━━━━━━━━━━━\u001b[0m\u001b[37m\u001b[0m \u001b[1m4s\u001b[0m 12ms/step - loss: 0.0025 - mae: 0.0312 - val_loss: 0.0023 - val_mae: 0.0299\n",
      "Epoch 10/10\n",
      "\u001b[1m347/347\u001b[0m \u001b[32m━━━━━━━━━━━━━━━━━━━━\u001b[0m\u001b[37m\u001b[0m \u001b[1m4s\u001b[0m 13ms/step - loss: 0.0024 - mae: 0.0304 - val_loss: 0.0023 - val_mae: 0.0293\n"
     ]
    },
    {
     "name": "stderr",
     "output_type": "stream",
     "text": [
      "[I 2025-08-11 21:35:22,366] Trial 15 finished with value: 0.0022612279281020164 and parameters: {'units': 128, 'dropout': 0.0, 'learning_rate': 0.0001, 'activation': 'relu', 'batch_size': 32, 'epochs': 10}. Best is trial 0 with value: 0.0021187160164117813.\n"
     ]
    },
    {
     "name": "stdout",
     "output_type": "stream",
     "text": [
      "Epoch 1/10\n",
      "\u001b[1m347/347\u001b[0m \u001b[32m━━━━━━━━━━━━━━━━━━━━\u001b[0m\u001b[37m\u001b[0m \u001b[1m7s\u001b[0m 13ms/step - loss: 0.0309 - mae: 0.1252 - val_loss: 0.0163 - val_mae: 0.0730\n",
      "Epoch 2/10\n",
      "\u001b[1m347/347\u001b[0m \u001b[32m━━━━━━━━━━━━━━━━━━━━\u001b[0m\u001b[37m\u001b[0m \u001b[1m4s\u001b[0m 12ms/step - loss: 0.0162 - mae: 0.0732 - val_loss: 0.0161 - val_mae: 0.0710\n",
      "Epoch 3/10\n",
      "\u001b[1m347/347\u001b[0m \u001b[32m━━━━━━━━━━━━━━━━━━━━\u001b[0m\u001b[37m\u001b[0m \u001b[1m4s\u001b[0m 12ms/step - loss: 0.0123 - mae: 0.0617 - val_loss: 0.0024 - val_mae: 0.0308\n",
      "Epoch 4/10\n",
      "\u001b[1m347/347\u001b[0m \u001b[32m━━━━━━━━━━━━━━━━━━━━\u001b[0m\u001b[37m\u001b[0m \u001b[1m4s\u001b[0m 12ms/step - loss: 0.0025 - mae: 0.0317 - val_loss: 0.0023 - val_mae: 0.0299\n",
      "Epoch 5/10\n",
      "\u001b[1m347/347\u001b[0m \u001b[32m━━━━━━━━━━━━━━━━━━━━\u001b[0m\u001b[37m\u001b[0m \u001b[1m4s\u001b[0m 12ms/step - loss: 0.0024 - mae: 0.0305 - val_loss: 0.0023 - val_mae: 0.0288\n",
      "Epoch 6/10\n",
      "\u001b[1m347/347\u001b[0m \u001b[32m━━━━━━━━━━━━━━━━━━━━\u001b[0m\u001b[37m\u001b[0m \u001b[1m5s\u001b[0m 14ms/step - loss: 0.0024 - mae: 0.0305 - val_loss: 0.0022 - val_mae: 0.0293\n",
      "Epoch 7/10\n",
      "\u001b[1m347/347\u001b[0m \u001b[32m━━━━━━━━━━━━━━━━━━━━\u001b[0m\u001b[37m\u001b[0m \u001b[1m5s\u001b[0m 13ms/step - loss: 0.0024 - mae: 0.0301 - val_loss: 0.0022 - val_mae: 0.0297\n",
      "Epoch 8/10\n",
      "\u001b[1m347/347\u001b[0m \u001b[32m━━━━━━━━━━━━━━━━━━━━\u001b[0m\u001b[37m\u001b[0m \u001b[1m5s\u001b[0m 13ms/step - loss: 0.0023 - mae: 0.0293 - val_loss: 0.0022 - val_mae: 0.0299\n",
      "Epoch 9/10\n",
      "\u001b[1m347/347\u001b[0m \u001b[32m━━━━━━━━━━━━━━━━━━━━\u001b[0m\u001b[37m\u001b[0m \u001b[1m4s\u001b[0m 12ms/step - loss: 0.0023 - mae: 0.0295 - val_loss: 0.0021 - val_mae: 0.0279\n",
      "Epoch 10/10\n",
      "\u001b[1m347/347\u001b[0m \u001b[32m━━━━━━━━━━━━━━━━━━━━\u001b[0m\u001b[37m\u001b[0m \u001b[1m4s\u001b[0m 12ms/step - loss: 0.0023 - mae: 0.0294 - val_loss: 0.0023 - val_mae: 0.0309\n"
     ]
    },
    {
     "name": "stderr",
     "output_type": "stream",
     "text": [
      "[I 2025-08-11 21:36:08,701] Trial 16 finished with value: 0.0021251756697893143 and parameters: {'units': 128, 'dropout': 0.0, 'learning_rate': 0.0005, 'activation': 'relu', 'batch_size': 32, 'epochs': 10}. Best is trial 0 with value: 0.0021187160164117813.\n"
     ]
    },
    {
     "name": "stdout",
     "output_type": "stream",
     "text": [
      "Epoch 1/10\n",
      "\u001b[1m347/347\u001b[0m \u001b[32m━━━━━━━━━━━━━━━━━━━━\u001b[0m\u001b[37m\u001b[0m \u001b[1m9s\u001b[0m 14ms/step - loss: 0.0133 - mae: 0.0762 - val_loss: 0.0026 - val_mae: 0.0327\n",
      "Epoch 2/10\n",
      "\u001b[1m347/347\u001b[0m \u001b[32m━━━━━━━━━━━━━━━━━━━━\u001b[0m\u001b[37m\u001b[0m \u001b[1m4s\u001b[0m 12ms/step - loss: 0.0027 - mae: 0.0333 - val_loss: 0.0025 - val_mae: 0.0321\n",
      "Epoch 3/10\n",
      "\u001b[1m347/347\u001b[0m \u001b[32m━━━━━━━━━━━━━━━━━━━━\u001b[0m\u001b[37m\u001b[0m \u001b[1m4s\u001b[0m 12ms/step - loss: 0.0026 - mae: 0.0322 - val_loss: 0.0023 - val_mae: 0.0303\n",
      "Epoch 4/10\n",
      "\u001b[1m347/347\u001b[0m \u001b[32m━━━━━━━━━━━━━━━━━━━━\u001b[0m\u001b[37m\u001b[0m \u001b[1m4s\u001b[0m 12ms/step - loss: 0.0025 - mae: 0.0311 - val_loss: 0.0024 - val_mae: 0.0312\n",
      "Epoch 5/10\n",
      "\u001b[1m347/347\u001b[0m \u001b[32m━━━━━━━━━━━━━━━━━━━━\u001b[0m\u001b[37m\u001b[0m \u001b[1m4s\u001b[0m 13ms/step - loss: 0.0024 - mae: 0.0304 - val_loss: 0.0022 - val_mae: 0.0287\n",
      "Epoch 6/10\n",
      "\u001b[1m347/347\u001b[0m \u001b[32m━━━━━━━━━━━━━━━━━━━━\u001b[0m\u001b[37m\u001b[0m \u001b[1m4s\u001b[0m 12ms/step - loss: 0.0023 - mae: 0.0296 - val_loss: 0.0025 - val_mae: 0.0329\n",
      "Epoch 7/10\n",
      "\u001b[1m347/347\u001b[0m \u001b[32m━━━━━━━━━━━━━━━━━━━━\u001b[0m\u001b[37m\u001b[0m \u001b[1m4s\u001b[0m 13ms/step - loss: 0.0024 - mae: 0.0307 - val_loss: 0.0022 - val_mae: 0.0285\n",
      "Epoch 8/10\n",
      "\u001b[1m347/347\u001b[0m \u001b[32m━━━━━━━━━━━━━━━━━━━━\u001b[0m\u001b[37m\u001b[0m \u001b[1m4s\u001b[0m 12ms/step - loss: 0.0024 - mae: 0.0300 - val_loss: 0.0022 - val_mae: 0.0284\n",
      "Epoch 9/10\n",
      "\u001b[1m347/347\u001b[0m \u001b[32m━━━━━━━━━━━━━━━━━━━━\u001b[0m\u001b[37m\u001b[0m \u001b[1m4s\u001b[0m 12ms/step - loss: 0.0023 - mae: 0.0291 - val_loss: 0.0022 - val_mae: 0.0284\n",
      "Epoch 10/10\n",
      "\u001b[1m347/347\u001b[0m \u001b[32m━━━━━━━━━━━━━━━━━━━━\u001b[0m\u001b[37m\u001b[0m \u001b[1m4s\u001b[0m 12ms/step - loss: 0.0023 - mae: 0.0294 - val_loss: 0.0022 - val_mae: 0.0278\n"
     ]
    },
    {
     "name": "stderr",
     "output_type": "stream",
     "text": [
      "[I 2025-08-11 21:36:56,473] Trial 17 finished with value: 0.0021713217720389366 and parameters: {'units': 128, 'dropout': 0.0, 'learning_rate': 0.0005, 'activation': 'relu', 'batch_size': 32, 'epochs': 10}. Best is trial 0 with value: 0.0021187160164117813.\n"
     ]
    },
    {
     "name": "stdout",
     "output_type": "stream",
     "text": [
      "Epoch 1/10\n",
      "\u001b[1m347/347\u001b[0m \u001b[32m━━━━━━━━━━━━━━━━━━━━\u001b[0m\u001b[37m\u001b[0m \u001b[1m4s\u001b[0m 8ms/step - loss: 0.0276 - mae: 0.1203 - val_loss: 0.0065 - val_mae: 0.0572\n",
      "Epoch 2/10\n",
      "\u001b[1m347/347\u001b[0m \u001b[32m━━━━━━━━━━━━━━━━━━━━\u001b[0m\u001b[37m\u001b[0m \u001b[1m2s\u001b[0m 7ms/step - loss: 0.0053 - mae: 0.0506 - val_loss: 0.0040 - val_mae: 0.0426\n",
      "Epoch 3/10\n",
      "\u001b[1m347/347\u001b[0m \u001b[32m━━━━━━━━━━━━━━━━━━━━\u001b[0m\u001b[37m\u001b[0m \u001b[1m2s\u001b[0m 7ms/step - loss: 0.0040 - mae: 0.0424 - val_loss: 0.0035 - val_mae: 0.0391\n",
      "Epoch 4/10\n",
      "\u001b[1m347/347\u001b[0m \u001b[32m━━━━━━━━━━━━━━━━━━━━\u001b[0m\u001b[37m\u001b[0m \u001b[1m2s\u001b[0m 7ms/step - loss: 0.0036 - mae: 0.0397 - val_loss: 0.0032 - val_mae: 0.0375\n",
      "Epoch 5/10\n",
      "\u001b[1m347/347\u001b[0m \u001b[32m━━━━━━━━━━━━━━━━━━━━\u001b[0m\u001b[37m\u001b[0m \u001b[1m2s\u001b[0m 7ms/step - loss: 0.0032 - mae: 0.0375 - val_loss: 0.0030 - val_mae: 0.0358\n",
      "Epoch 6/10\n",
      "\u001b[1m347/347\u001b[0m \u001b[32m━━━━━━━━━━━━━━━━━━━━\u001b[0m\u001b[37m\u001b[0m \u001b[1m3s\u001b[0m 9ms/step - loss: 0.0030 - mae: 0.0362 - val_loss: 0.0029 - val_mae: 0.0356\n",
      "Epoch 7/10\n",
      "\u001b[1m347/347\u001b[0m \u001b[32m━━━━━━━━━━━━━━━━━━━━\u001b[0m\u001b[37m\u001b[0m \u001b[1m2s\u001b[0m 7ms/step - loss: 0.0029 - mae: 0.0355 - val_loss: 0.0028 - val_mae: 0.0345\n",
      "Epoch 8/10\n",
      "\u001b[1m347/347\u001b[0m \u001b[32m━━━━━━━━━━━━━━━━━━━━\u001b[0m\u001b[37m\u001b[0m \u001b[1m2s\u001b[0m 6ms/step - loss: 0.0028 - mae: 0.0345 - val_loss: 0.0027 - val_mae: 0.0334\n",
      "Epoch 9/10\n",
      "\u001b[1m347/347\u001b[0m \u001b[32m━━━━━━━━━━━━━━━━━━━━\u001b[0m\u001b[37m\u001b[0m \u001b[1m2s\u001b[0m 7ms/step - loss: 0.0028 - mae: 0.0340 - val_loss: 0.0026 - val_mae: 0.0328\n",
      "Epoch 10/10\n",
      "\u001b[1m347/347\u001b[0m \u001b[32m━━━━━━━━━━━━━━━━━━━━\u001b[0m\u001b[37m\u001b[0m \u001b[1m2s\u001b[0m 7ms/step - loss: 0.0028 - mae: 0.0337 - val_loss: 0.0026 - val_mae: 0.0329\n"
     ]
    },
    {
     "name": "stderr",
     "output_type": "stream",
     "text": [
      "[I 2025-08-11 21:37:22,635] Trial 18 finished with value: 0.0025906816590577364 and parameters: {'units': 32, 'dropout': 0.0, 'learning_rate': 0.0001, 'activation': 'tanh', 'batch_size': 32, 'epochs': 10}. Best is trial 0 with value: 0.0021187160164117813.\n"
     ]
    },
    {
     "name": "stdout",
     "output_type": "stream",
     "text": [
      "Epoch 1/10\n",
      "\u001b[1m347/347\u001b[0m \u001b[32m━━━━━━━━━━━━━━━━━━━━\u001b[0m\u001b[37m\u001b[0m \u001b[1m5s\u001b[0m 9ms/step - loss: 0.0113 - mae: 0.0708 - val_loss: 0.0028 - val_mae: 0.0337\n",
      "Epoch 2/10\n",
      "\u001b[1m347/347\u001b[0m \u001b[32m━━━━━━━━━━━━━━━━━━━━\u001b[0m\u001b[37m\u001b[0m \u001b[1m3s\u001b[0m 8ms/step - loss: 0.0028 - mae: 0.0343 - val_loss: 0.0025 - val_mae: 0.0312\n",
      "Epoch 3/10\n",
      "\u001b[1m347/347\u001b[0m \u001b[32m━━━━━━━━━━━━━━━━━━━━\u001b[0m\u001b[37m\u001b[0m \u001b[1m3s\u001b[0m 8ms/step - loss: 0.0025 - mae: 0.0321 - val_loss: 0.0027 - val_mae: 0.0337\n",
      "Epoch 4/10\n",
      "\u001b[1m347/347\u001b[0m \u001b[32m━━━━━━━━━━━━━━━━━━━━\u001b[0m\u001b[37m\u001b[0m \u001b[1m3s\u001b[0m 8ms/step - loss: 0.0025 - mae: 0.0312 - val_loss: 0.0025 - val_mae: 0.0319\n",
      "Epoch 5/10\n",
      "\u001b[1m347/347\u001b[0m \u001b[32m━━━━━━━━━━━━━━━━━━━━\u001b[0m\u001b[37m\u001b[0m \u001b[1m3s\u001b[0m 8ms/step - loss: 0.0024 - mae: 0.0301 - val_loss: 0.0022 - val_mae: 0.0288\n",
      "Epoch 6/10\n",
      "\u001b[1m347/347\u001b[0m \u001b[32m━━━━━━━━━━━━━━━━━━━━\u001b[0m\u001b[37m\u001b[0m \u001b[1m3s\u001b[0m 8ms/step - loss: 0.0023 - mae: 0.0299 - val_loss: 0.0022 - val_mae: 0.0292\n",
      "Epoch 7/10\n",
      "\u001b[1m347/347\u001b[0m \u001b[32m━━━━━━━━━━━━━━━━━━━━\u001b[0m\u001b[37m\u001b[0m \u001b[1m3s\u001b[0m 9ms/step - loss: 0.0024 - mae: 0.0304 - val_loss: 0.0023 - val_mae: 0.0295\n",
      "Epoch 8/10\n",
      "\u001b[1m347/347\u001b[0m \u001b[32m━━━━━━━━━━━━━━━━━━━━\u001b[0m\u001b[37m\u001b[0m \u001b[1m3s\u001b[0m 8ms/step - loss: 0.0024 - mae: 0.0301 - val_loss: 0.0022 - val_mae: 0.0279\n",
      "Epoch 9/10\n",
      "\u001b[1m347/347\u001b[0m \u001b[32m━━━━━━━━━━━━━━━━━━━━\u001b[0m\u001b[37m\u001b[0m \u001b[1m3s\u001b[0m 8ms/step - loss: 0.0024 - mae: 0.0295 - val_loss: 0.0022 - val_mae: 0.0289\n",
      "Epoch 10/10\n",
      "\u001b[1m347/347\u001b[0m \u001b[32m━━━━━━━━━━━━━━━━━━━━\u001b[0m\u001b[37m\u001b[0m \u001b[1m3s\u001b[0m 8ms/step - loss: 0.0023 - mae: 0.0295 - val_loss: 0.0022 - val_mae: 0.0293\n"
     ]
    },
    {
     "name": "stderr",
     "output_type": "stream",
     "text": [
      "[I 2025-08-11 21:37:53,801] Trial 19 finished with value: 0.00218470417894423 and parameters: {'units': 64, 'dropout': 0.0, 'learning_rate': 0.001, 'activation': 'relu', 'batch_size': 32, 'epochs': 10}. Best is trial 0 with value: 0.0021187160164117813.\n"
     ]
    },
    {
     "name": "stdout",
     "output_type": "stream",
     "text": [
      "Epoch 1/10\n",
      "\u001b[1m347/347\u001b[0m \u001b[32m━━━━━━━━━━━━━━━━━━━━\u001b[0m\u001b[37m\u001b[0m \u001b[1m7s\u001b[0m 13ms/step - loss: 0.0141 - mae: 0.0828 - val_loss: 0.0032 - val_mae: 0.0374\n",
      "Epoch 2/10\n",
      "\u001b[1m347/347\u001b[0m \u001b[32m━━━━━━━━━━━━━━━━━━━━\u001b[0m\u001b[37m\u001b[0m \u001b[1m4s\u001b[0m 12ms/step - loss: 0.0046 - mae: 0.0471 - val_loss: 0.0027 - val_mae: 0.0332\n",
      "Epoch 3/10\n",
      "\u001b[1m347/347\u001b[0m \u001b[32m━━━━━━━━━━━━━━━━━━━━\u001b[0m\u001b[37m\u001b[0m \u001b[1m4s\u001b[0m 12ms/step - loss: 0.0039 - mae: 0.0433 - val_loss: 0.0026 - val_mae: 0.0327\n",
      "Epoch 4/10\n",
      "\u001b[1m347/347\u001b[0m \u001b[32m━━━━━━━━━━━━━━━━━━━━\u001b[0m\u001b[37m\u001b[0m \u001b[1m5s\u001b[0m 15ms/step - loss: 0.0036 - mae: 0.0412 - val_loss: 0.0027 - val_mae: 0.0324\n",
      "Epoch 5/10\n",
      "\u001b[1m347/347\u001b[0m \u001b[32m━━━━━━━━━━━━━━━━━━━━\u001b[0m\u001b[37m\u001b[0m \u001b[1m4s\u001b[0m 12ms/step - loss: 0.0035 - mae: 0.0401 - val_loss: 0.0024 - val_mae: 0.0315\n",
      "Epoch 6/10\n",
      "\u001b[1m347/347\u001b[0m \u001b[32m━━━━━━━━━━━━━━━━━━━━\u001b[0m\u001b[37m\u001b[0m \u001b[1m4s\u001b[0m 13ms/step - loss: 0.0033 - mae: 0.0394 - val_loss: 0.0023 - val_mae: 0.0308\n",
      "Epoch 7/10\n",
      "\u001b[1m347/347\u001b[0m \u001b[32m━━━━━━━━━━━━━━━━━━━━\u001b[0m\u001b[37m\u001b[0m \u001b[1m4s\u001b[0m 13ms/step - loss: 0.0032 - mae: 0.0388 - val_loss: 0.0023 - val_mae: 0.0309\n",
      "Epoch 8/10\n",
      "\u001b[1m347/347\u001b[0m \u001b[32m━━━━━━━━━━━━━━━━━━━━\u001b[0m\u001b[37m\u001b[0m \u001b[1m4s\u001b[0m 12ms/step - loss: 0.0032 - mae: 0.0383 - val_loss: 0.0022 - val_mae: 0.0298\n",
      "Epoch 9/10\n",
      "\u001b[1m347/347\u001b[0m \u001b[32m━━━━━━━━━━━━━━━━━━━━\u001b[0m\u001b[37m\u001b[0m \u001b[1m4s\u001b[0m 13ms/step - loss: 0.0031 - mae: 0.0377 - val_loss: 0.0023 - val_mae: 0.0307\n",
      "Epoch 10/10\n",
      "\u001b[1m347/347\u001b[0m \u001b[32m━━━━━━━━━━━━━━━━━━━━\u001b[0m\u001b[37m\u001b[0m \u001b[1m4s\u001b[0m 12ms/step - loss: 0.0030 - mae: 0.0375 - val_loss: 0.0022 - val_mae: 0.0289\n"
     ]
    },
    {
     "name": "stderr",
     "output_type": "stream",
     "text": [
      "[I 2025-08-11 21:38:40,338] Trial 20 finished with value: 0.002185106510296464 and parameters: {'units': 128, 'dropout': 0.4, 'learning_rate': 0.0005, 'activation': 'relu', 'batch_size': 32, 'epochs': 10}. Best is trial 0 with value: 0.0021187160164117813.\n"
     ]
    },
    {
     "name": "stdout",
     "output_type": "stream",
     "text": [
      "Epoch 1/10\n",
      "\u001b[1m347/347\u001b[0m \u001b[32m━━━━━━━━━━━━━━━━━━━━\u001b[0m\u001b[37m\u001b[0m \u001b[1m6s\u001b[0m 13ms/step - loss: 0.0352 - mae: 0.1325 - val_loss: 0.0243 - val_mae: 0.0905\n",
      "Epoch 2/10\n",
      "\u001b[1m347/347\u001b[0m \u001b[32m━━━━━━━━━━━━━━━━━━━━\u001b[0m\u001b[37m\u001b[0m \u001b[1m4s\u001b[0m 12ms/step - loss: 0.0072 - mae: 0.0499 - val_loss: 0.0025 - val_mae: 0.0313\n",
      "Epoch 3/10\n",
      "\u001b[1m347/347\u001b[0m \u001b[32m━━━━━━━━━━━━━━━━━━━━\u001b[0m\u001b[37m\u001b[0m \u001b[1m4s\u001b[0m 12ms/step - loss: 0.0026 - mae: 0.0323 - val_loss: 0.0025 - val_mae: 0.0331\n",
      "Epoch 4/10\n",
      "\u001b[1m347/347\u001b[0m \u001b[32m━━━━━━━━━━━━━━━━━━━━\u001b[0m\u001b[37m\u001b[0m \u001b[1m4s\u001b[0m 12ms/step - loss: 0.0026 - mae: 0.0318 - val_loss: 0.0024 - val_mae: 0.0310\n",
      "Epoch 5/10\n",
      "\u001b[1m347/347\u001b[0m \u001b[32m━━━━━━━━━━━━━━━━━━━━\u001b[0m\u001b[37m\u001b[0m \u001b[1m4s\u001b[0m 12ms/step - loss: 0.0024 - mae: 0.0308 - val_loss: 0.0024 - val_mae: 0.0297\n",
      "Epoch 6/10\n",
      "\u001b[1m347/347\u001b[0m \u001b[32m━━━━━━━━━━━━━━━━━━━━\u001b[0m\u001b[37m\u001b[0m \u001b[1m4s\u001b[0m 12ms/step - loss: 0.0025 - mae: 0.0310 - val_loss: 0.0023 - val_mae: 0.0290\n",
      "Epoch 7/10\n",
      "\u001b[1m347/347\u001b[0m \u001b[32m━━━━━━━━━━━━━━━━━━━━\u001b[0m\u001b[37m\u001b[0m \u001b[1m5s\u001b[0m 13ms/step - loss: 0.0023 - mae: 0.0297 - val_loss: 0.0024 - val_mae: 0.0297\n",
      "Epoch 8/10\n",
      "\u001b[1m347/347\u001b[0m \u001b[32m━━━━━━━━━━━━━━━━━━━━\u001b[0m\u001b[37m\u001b[0m \u001b[1m5s\u001b[0m 13ms/step - loss: 0.0024 - mae: 0.0297 - val_loss: 0.0023 - val_mae: 0.0307\n",
      "Epoch 9/10\n",
      "\u001b[1m347/347\u001b[0m \u001b[32m━━━━━━━━━━━━━━━━━━━━\u001b[0m\u001b[37m\u001b[0m \u001b[1m4s\u001b[0m 12ms/step - loss: 0.0023 - mae: 0.0296 - val_loss: 0.0022 - val_mae: 0.0291\n",
      "Epoch 10/10\n",
      "\u001b[1m347/347\u001b[0m \u001b[32m━━━━━━━━━━━━━━━━━━━━\u001b[0m\u001b[37m\u001b[0m \u001b[1m4s\u001b[0m 12ms/step - loss: 0.0023 - mae: 0.0292 - val_loss: 0.0021 - val_mae: 0.0284\n"
     ]
    },
    {
     "name": "stderr",
     "output_type": "stream",
     "text": [
      "[I 2025-08-11 21:39:24,874] Trial 21 finished with value: 0.0021497185807675123 and parameters: {'units': 128, 'dropout': 0.0, 'learning_rate': 0.0005, 'activation': 'relu', 'batch_size': 32, 'epochs': 10}. Best is trial 0 with value: 0.0021187160164117813.\n"
     ]
    },
    {
     "name": "stdout",
     "output_type": "stream",
     "text": [
      "Epoch 1/10\n",
      "\u001b[1m347/347\u001b[0m \u001b[32m━━━━━━━━━━━━━━━━━━━━\u001b[0m\u001b[37m\u001b[0m \u001b[1m6s\u001b[0m 13ms/step - loss: 0.0163 - mae: 0.0821 - val_loss: 0.0028 - val_mae: 0.0348\n",
      "Epoch 2/10\n",
      "\u001b[1m347/347\u001b[0m \u001b[32m━━━━━━━━━━━━━━━━━━━━\u001b[0m\u001b[37m\u001b[0m \u001b[1m4s\u001b[0m 12ms/step - loss: 0.0028 - mae: 0.0340 - val_loss: 0.0025 - val_mae: 0.0318\n",
      "Epoch 3/10\n",
      "\u001b[1m347/347\u001b[0m \u001b[32m━━━━━━━━━━━━━━━━━━━━\u001b[0m\u001b[37m\u001b[0m \u001b[1m4s\u001b[0m 12ms/step - loss: 0.0026 - mae: 0.0323 - val_loss: 0.0024 - val_mae: 0.0304\n",
      "Epoch 4/10\n",
      "\u001b[1m347/347\u001b[0m \u001b[32m━━━━━━━━━━━━━━━━━━━━\u001b[0m\u001b[37m\u001b[0m \u001b[1m4s\u001b[0m 12ms/step - loss: 0.0026 - mae: 0.0317 - val_loss: 0.0024 - val_mae: 0.0296\n",
      "Epoch 5/10\n",
      "\u001b[1m347/347\u001b[0m \u001b[32m━━━━━━━━━━━━━━━━━━━━\u001b[0m\u001b[37m\u001b[0m \u001b[1m4s\u001b[0m 12ms/step - loss: 0.0024 - mae: 0.0302 - val_loss: 0.0024 - val_mae: 0.0298\n",
      "Epoch 6/10\n",
      "\u001b[1m347/347\u001b[0m \u001b[32m━━━━━━━━━━━━━━━━━━━━\u001b[0m\u001b[37m\u001b[0m \u001b[1m5s\u001b[0m 14ms/step - loss: 0.0024 - mae: 0.0304 - val_loss: 0.0023 - val_mae: 0.0308\n",
      "Epoch 7/10\n",
      "\u001b[1m347/347\u001b[0m \u001b[32m━━━━━━━━━━━━━━━━━━━━\u001b[0m\u001b[37m\u001b[0m \u001b[1m4s\u001b[0m 13ms/step - loss: 0.0024 - mae: 0.0301 - val_loss: 0.0022 - val_mae: 0.0295\n",
      "Epoch 8/10\n",
      "\u001b[1m347/347\u001b[0m \u001b[32m━━━━━━━━━━━━━━━━━━━━\u001b[0m\u001b[37m\u001b[0m \u001b[1m4s\u001b[0m 13ms/step - loss: 0.0023 - mae: 0.0298 - val_loss: 0.0022 - val_mae: 0.0290\n",
      "Epoch 9/10\n",
      "\u001b[1m347/347\u001b[0m \u001b[32m━━━━━━━━━━━━━━━━━━━━\u001b[0m\u001b[37m\u001b[0m \u001b[1m4s\u001b[0m 12ms/step - loss: 0.0023 - mae: 0.0300 - val_loss: 0.0022 - val_mae: 0.0292\n",
      "Epoch 10/10\n",
      "\u001b[1m347/347\u001b[0m \u001b[32m━━━━━━━━━━━━━━━━━━━━\u001b[0m\u001b[37m\u001b[0m \u001b[1m4s\u001b[0m 13ms/step - loss: 0.0023 - mae: 0.0296 - val_loss: 0.0021 - val_mae: 0.0287\n"
     ]
    },
    {
     "name": "stderr",
     "output_type": "stream",
     "text": [
      "[I 2025-08-11 21:40:10,286] Trial 22 finished with value: 0.0021493127569556236 and parameters: {'units': 128, 'dropout': 0.0, 'learning_rate': 0.0005, 'activation': 'relu', 'batch_size': 32, 'epochs': 10}. Best is trial 0 with value: 0.0021187160164117813.\n"
     ]
    },
    {
     "name": "stdout",
     "output_type": "stream",
     "text": [
      "Epoch 1/10\n",
      "\u001b[1m347/347\u001b[0m \u001b[32m━━━━━━━━━━━━━━━━━━━━\u001b[0m\u001b[37m\u001b[0m \u001b[1m7s\u001b[0m 13ms/step - loss: 0.0141 - mae: 0.0769 - val_loss: 0.0027 - val_mae: 0.0349\n",
      "Epoch 2/10\n",
      "\u001b[1m347/347\u001b[0m \u001b[32m━━━━━━━━━━━━━━━━━━━━\u001b[0m\u001b[37m\u001b[0m \u001b[1m4s\u001b[0m 12ms/step - loss: 0.0028 - mae: 0.0342 - val_loss: 0.0028 - val_mae: 0.0338\n",
      "Epoch 3/10\n",
      "\u001b[1m347/347\u001b[0m \u001b[32m━━━━━━━━━━━━━━━━━━━━\u001b[0m\u001b[37m\u001b[0m \u001b[1m4s\u001b[0m 12ms/step - loss: 0.0026 - mae: 0.0325 - val_loss: 0.0024 - val_mae: 0.0309\n",
      "Epoch 4/10\n",
      "\u001b[1m347/347\u001b[0m \u001b[32m━━━━━━━━━━━━━━━━━━━━\u001b[0m\u001b[37m\u001b[0m \u001b[1m4s\u001b[0m 12ms/step - loss: 0.0025 - mae: 0.0312 - val_loss: 0.0023 - val_mae: 0.0302\n",
      "Epoch 5/10\n",
      "\u001b[1m347/347\u001b[0m \u001b[32m━━━━━━━━━━━━━━━━━━━━\u001b[0m\u001b[37m\u001b[0m \u001b[1m4s\u001b[0m 12ms/step - loss: 0.0024 - mae: 0.0304 - val_loss: 0.0023 - val_mae: 0.0302\n",
      "Epoch 6/10\n",
      "\u001b[1m347/347\u001b[0m \u001b[32m━━━━━━━━━━━━━━━━━━━━\u001b[0m\u001b[37m\u001b[0m \u001b[1m4s\u001b[0m 12ms/step - loss: 0.0024 - mae: 0.0305 - val_loss: 0.0022 - val_mae: 0.0284\n",
      "Epoch 7/10\n",
      "\u001b[1m347/347\u001b[0m \u001b[32m━━━━━━━━━━━━━━━━━━━━\u001b[0m\u001b[37m\u001b[0m \u001b[1m4s\u001b[0m 13ms/step - loss: 0.0025 - mae: 0.0309 - val_loss: 0.0023 - val_mae: 0.0291\n",
      "Epoch 8/10\n",
      "\u001b[1m347/347\u001b[0m \u001b[32m━━━━━━━━━━━━━━━━━━━━\u001b[0m\u001b[37m\u001b[0m \u001b[1m4s\u001b[0m 12ms/step - loss: 0.0024 - mae: 0.0301 - val_loss: 0.0022 - val_mae: 0.0280\n",
      "Epoch 9/10\n",
      "\u001b[1m347/347\u001b[0m \u001b[32m━━━━━━━━━━━━━━━━━━━━\u001b[0m\u001b[37m\u001b[0m \u001b[1m4s\u001b[0m 12ms/step - loss: 0.0023 - mae: 0.0291 - val_loss: 0.0022 - val_mae: 0.0285\n",
      "Epoch 10/10\n",
      "\u001b[1m347/347\u001b[0m \u001b[32m━━━━━━━━━━━━━━━━━━━━\u001b[0m\u001b[37m\u001b[0m \u001b[1m4s\u001b[0m 12ms/step - loss: 0.0023 - mae: 0.0294 - val_loss: 0.0024 - val_mae: 0.0293\n"
     ]
    },
    {
     "name": "stderr",
     "output_type": "stream",
     "text": [
      "[I 2025-08-11 21:40:56,204] Trial 23 finished with value: 0.00217825616709888 and parameters: {'units': 128, 'dropout': 0.0, 'learning_rate': 0.0005, 'activation': 'relu', 'batch_size': 32, 'epochs': 10}. Best is trial 0 with value: 0.0021187160164117813.\n"
     ]
    },
    {
     "name": "stdout",
     "output_type": "stream",
     "text": [
      "Epoch 1/10\n",
      "\u001b[1m347/347\u001b[0m \u001b[32m━━━━━━━━━━━━━━━━━━━━\u001b[0m\u001b[37m\u001b[0m \u001b[1m6s\u001b[0m 13ms/step - loss: 0.0225 - mae: 0.1011 - val_loss: 0.0163 - val_mae: 0.0731\n",
      "Epoch 2/10\n",
      "\u001b[1m347/347\u001b[0m \u001b[32m━━━━━━━━━━━━━━━━━━━━\u001b[0m\u001b[37m\u001b[0m \u001b[1m4s\u001b[0m 12ms/step - loss: 0.0081 - mae: 0.0509 - val_loss: 0.0027 - val_mae: 0.0327\n",
      "Epoch 3/10\n",
      "\u001b[1m347/347\u001b[0m \u001b[32m━━━━━━━━━━━━━━━━━━━━\u001b[0m\u001b[37m\u001b[0m \u001b[1m5s\u001b[0m 14ms/step - loss: 0.0026 - mae: 0.0328 - val_loss: 0.0024 - val_mae: 0.0305\n",
      "Epoch 4/10\n",
      "\u001b[1m347/347\u001b[0m \u001b[32m━━━━━━━━━━━━━━━━━━━━\u001b[0m\u001b[37m\u001b[0m \u001b[1m5s\u001b[0m 14ms/step - loss: 0.0025 - mae: 0.0310 - val_loss: 0.0024 - val_mae: 0.0303\n",
      "Epoch 5/10\n",
      "\u001b[1m347/347\u001b[0m \u001b[32m━━━━━━━━━━━━━━━━━━━━\u001b[0m\u001b[37m\u001b[0m \u001b[1m4s\u001b[0m 12ms/step - loss: 0.0024 - mae: 0.0306 - val_loss: 0.0023 - val_mae: 0.0300\n",
      "Epoch 6/10\n",
      "\u001b[1m347/347\u001b[0m \u001b[32m━━━━━━━━━━━━━━━━━━━━\u001b[0m\u001b[37m\u001b[0m \u001b[1m4s\u001b[0m 12ms/step - loss: 0.0023 - mae: 0.0299 - val_loss: 0.0023 - val_mae: 0.0294\n",
      "Epoch 7/10\n",
      "\u001b[1m347/347\u001b[0m \u001b[32m━━━━━━━━━━━━━━━━━━━━\u001b[0m\u001b[37m\u001b[0m \u001b[1m4s\u001b[0m 12ms/step - loss: 0.0024 - mae: 0.0304 - val_loss: 0.0023 - val_mae: 0.0311\n",
      "Epoch 8/10\n",
      "\u001b[1m347/347\u001b[0m \u001b[32m━━━━━━━━━━━━━━━━━━━━\u001b[0m\u001b[37m\u001b[0m \u001b[1m4s\u001b[0m 12ms/step - loss: 0.0024 - mae: 0.0299 - val_loss: 0.0022 - val_mae: 0.0282\n",
      "Epoch 9/10\n",
      "\u001b[1m347/347\u001b[0m \u001b[32m━━━━━━━━━━━━━━━━━━━━\u001b[0m\u001b[37m\u001b[0m \u001b[1m4s\u001b[0m 12ms/step - loss: 0.0023 - mae: 0.0293 - val_loss: 0.0023 - val_mae: 0.0291\n",
      "Epoch 10/10\n",
      "\u001b[1m347/347\u001b[0m \u001b[32m━━━━━━━━━━━━━━━━━━━━\u001b[0m\u001b[37m\u001b[0m \u001b[1m4s\u001b[0m 13ms/step - loss: 0.0023 - mae: 0.0295 - val_loss: 0.0021 - val_mae: 0.0275\n"
     ]
    },
    {
     "name": "stderr",
     "output_type": "stream",
     "text": [
      "[I 2025-08-11 21:41:42,539] Trial 24 finished with value: 0.00211516791023314 and parameters: {'units': 128, 'dropout': 0.0, 'learning_rate': 0.0005, 'activation': 'relu', 'batch_size': 32, 'epochs': 10}. Best is trial 24 with value: 0.00211516791023314.\n"
     ]
    },
    {
     "name": "stdout",
     "output_type": "stream",
     "text": [
      "Epoch 1/10\n",
      "\u001b[1m347/347\u001b[0m \u001b[32m━━━━━━━━━━━━━━━━━━━━\u001b[0m\u001b[37m\u001b[0m \u001b[1m7s\u001b[0m 13ms/step - loss: 0.0224 - mae: 0.0980 - val_loss: 0.0028 - val_mae: 0.0347\n",
      "Epoch 2/10\n",
      "\u001b[1m347/347\u001b[0m \u001b[32m━━━━━━━━━━━━━━━━━━━━\u001b[0m\u001b[37m\u001b[0m \u001b[1m4s\u001b[0m 13ms/step - loss: 0.0028 - mae: 0.0343 - val_loss: 0.0027 - val_mae: 0.0344\n",
      "Epoch 3/10\n",
      "\u001b[1m347/347\u001b[0m \u001b[32m━━━━━━━━━━━━━━━━━━━━\u001b[0m\u001b[37m\u001b[0m \u001b[1m4s\u001b[0m 12ms/step - loss: 0.0026 - mae: 0.0323 - val_loss: 0.0025 - val_mae: 0.0310\n",
      "Epoch 4/10\n",
      "\u001b[1m347/347\u001b[0m \u001b[32m━━━━━━━━━━━━━━━━━━━━\u001b[0m\u001b[37m\u001b[0m \u001b[1m4s\u001b[0m 12ms/step - loss: 0.0025 - mae: 0.0315 - val_loss: 0.0025 - val_mae: 0.0323\n",
      "Epoch 5/10\n",
      "\u001b[1m347/347\u001b[0m \u001b[32m━━━━━━━━━━━━━━━━━━━━\u001b[0m\u001b[37m\u001b[0m \u001b[1m4s\u001b[0m 12ms/step - loss: 0.0025 - mae: 0.0314 - val_loss: 0.0023 - val_mae: 0.0301\n",
      "Epoch 6/10\n",
      "\u001b[1m347/347\u001b[0m \u001b[32m━━━━━━━━━━━━━━━━━━━━\u001b[0m\u001b[37m\u001b[0m \u001b[1m5s\u001b[0m 13ms/step - loss: 0.0024 - mae: 0.0305 - val_loss: 0.0024 - val_mae: 0.0319\n",
      "Epoch 7/10\n",
      "\u001b[1m347/347\u001b[0m \u001b[32m━━━━━━━━━━━━━━━━━━━━\u001b[0m\u001b[37m\u001b[0m \u001b[1m5s\u001b[0m 14ms/step - loss: 0.0023 - mae: 0.0300 - val_loss: 0.0022 - val_mae: 0.0287\n",
      "Epoch 8/10\n",
      "\u001b[1m347/347\u001b[0m \u001b[32m━━━━━━━━━━━━━━━━━━━━\u001b[0m\u001b[37m\u001b[0m \u001b[1m4s\u001b[0m 12ms/step - loss: 0.0023 - mae: 0.0295 - val_loss: 0.0022 - val_mae: 0.0281\n",
      "Epoch 9/10\n",
      "\u001b[1m347/347\u001b[0m \u001b[32m━━━━━━━━━━━━━━━━━━━━\u001b[0m\u001b[37m\u001b[0m \u001b[1m4s\u001b[0m 12ms/step - loss: 0.0023 - mae: 0.0297 - val_loss: 0.0021 - val_mae: 0.0282\n",
      "Epoch 10/10\n",
      "\u001b[1m347/347\u001b[0m \u001b[32m━━━━━━━━━━━━━━━━━━━━\u001b[0m\u001b[37m\u001b[0m \u001b[1m4s\u001b[0m 12ms/step - loss: 0.0023 - mae: 0.0290 - val_loss: 0.0021 - val_mae: 0.0276\n"
     ]
    },
    {
     "name": "stderr",
     "output_type": "stream",
     "text": [
      "[I 2025-08-11 21:42:28,912] Trial 25 finished with value: 0.0020845099352300167 and parameters: {'units': 128, 'dropout': 0.0, 'learning_rate': 0.0005, 'activation': 'relu', 'batch_size': 32, 'epochs': 10}. Best is trial 25 with value: 0.0020845099352300167.\n"
     ]
    },
    {
     "name": "stdout",
     "output_type": "stream",
     "text": [
      "Epoch 1/10\n",
      "\u001b[1m174/174\u001b[0m \u001b[32m━━━━━━━━━━━━━━━━━━━━\u001b[0m\u001b[37m\u001b[0m \u001b[1m5s\u001b[0m 20ms/step - loss: 0.0180 - mae: 0.0877 - val_loss: 0.0032 - val_mae: 0.0363\n",
      "Epoch 2/10\n",
      "\u001b[1m174/174\u001b[0m \u001b[32m━━━━━━━━━━━━━━━━━━━━\u001b[0m\u001b[37m\u001b[0m \u001b[1m3s\u001b[0m 18ms/step - loss: 0.0032 - mae: 0.0365 - val_loss: 0.0027 - val_mae: 0.0335\n",
      "Epoch 3/10\n",
      "\u001b[1m174/174\u001b[0m \u001b[32m━━━━━━━━━━━━━━━━━━━━\u001b[0m\u001b[37m\u001b[0m \u001b[1m3s\u001b[0m 18ms/step - loss: 0.0027 - mae: 0.0337 - val_loss: 0.0025 - val_mae: 0.0316\n",
      "Epoch 4/10\n",
      "\u001b[1m174/174\u001b[0m \u001b[32m━━━━━━━━━━━━━━━━━━━━\u001b[0m\u001b[37m\u001b[0m \u001b[1m3s\u001b[0m 19ms/step - loss: 0.0026 - mae: 0.0325 - val_loss: 0.0024 - val_mae: 0.0312\n",
      "Epoch 5/10\n",
      "\u001b[1m174/174\u001b[0m \u001b[32m━━━━━━━━━━━━━━━━━━━━\u001b[0m\u001b[37m\u001b[0m \u001b[1m3s\u001b[0m 18ms/step - loss: 0.0025 - mae: 0.0313 - val_loss: 0.0025 - val_mae: 0.0312\n",
      "Epoch 6/10\n",
      "\u001b[1m174/174\u001b[0m \u001b[32m━━━━━━━━━━━━━━━━━━━━\u001b[0m\u001b[37m\u001b[0m \u001b[1m3s\u001b[0m 18ms/step - loss: 0.0025 - mae: 0.0317 - val_loss: 0.0024 - val_mae: 0.0300\n",
      "Epoch 7/10\n",
      "\u001b[1m174/174\u001b[0m \u001b[32m━━━━━━━━━━━━━━━━━━━━\u001b[0m\u001b[37m\u001b[0m \u001b[1m3s\u001b[0m 18ms/step - loss: 0.0024 - mae: 0.0310 - val_loss: 0.0023 - val_mae: 0.0296\n",
      "Epoch 8/10\n",
      "\u001b[1m174/174\u001b[0m \u001b[32m━━━━━━━━━━━━━━━━━━━━\u001b[0m\u001b[37m\u001b[0m \u001b[1m3s\u001b[0m 18ms/step - loss: 0.0025 - mae: 0.0309 - val_loss: 0.0023 - val_mae: 0.0295\n",
      "Epoch 9/10\n",
      "\u001b[1m174/174\u001b[0m \u001b[32m━━━━━━━━━━━━━━━━━━━━\u001b[0m\u001b[37m\u001b[0m \u001b[1m3s\u001b[0m 18ms/step - loss: 0.0024 - mae: 0.0304 - val_loss: 0.0023 - val_mae: 0.0295\n",
      "Epoch 10/10\n",
      "\u001b[1m174/174\u001b[0m \u001b[32m━━━━━━━━━━━━━━━━━━━━\u001b[0m\u001b[37m\u001b[0m \u001b[1m3s\u001b[0m 18ms/step - loss: 0.0024 - mae: 0.0305 - val_loss: 0.0022 - val_mae: 0.0292\n"
     ]
    },
    {
     "name": "stderr",
     "output_type": "stream",
     "text": [
      "[I 2025-08-11 21:43:02,981] Trial 26 finished with value: 0.002242510439828038 and parameters: {'units': 128, 'dropout': 0.0, 'learning_rate': 0.0005, 'activation': 'tanh', 'batch_size': 64, 'epochs': 10}. Best is trial 25 with value: 0.0020845099352300167.\n"
     ]
    },
    {
     "name": "stdout",
     "output_type": "stream",
     "text": [
      "Epoch 1/10\n",
      "\u001b[1m347/347\u001b[0m \u001b[32m━━━━━━━━━━━━━━━━━━━━\u001b[0m\u001b[37m\u001b[0m \u001b[1m9s\u001b[0m 16ms/step - loss: 0.0148 - mae: 0.0792 - val_loss: 0.0029 - val_mae: 0.0341\n",
      "Epoch 2/10\n",
      "\u001b[1m347/347\u001b[0m \u001b[32m━━━━━━━━━━━━━━━━━━━━\u001b[0m\u001b[37m\u001b[0m \u001b[1m5s\u001b[0m 14ms/step - loss: 0.0028 - mae: 0.0340 - val_loss: 0.0024 - val_mae: 0.0314\n",
      "Epoch 3/10\n",
      "\u001b[1m347/347\u001b[0m \u001b[32m━━━━━━━━━━━━━━━━━━━━\u001b[0m\u001b[37m\u001b[0m \u001b[1m5s\u001b[0m 13ms/step - loss: 0.0026 - mae: 0.0321 - val_loss: 0.0024 - val_mae: 0.0311\n",
      "Epoch 4/10\n",
      "\u001b[1m347/347\u001b[0m \u001b[32m━━━━━━━━━━━━━━━━━━━━\u001b[0m\u001b[37m\u001b[0m \u001b[1m5s\u001b[0m 13ms/step - loss: 0.0025 - mae: 0.0309 - val_loss: 0.0023 - val_mae: 0.0295\n",
      "Epoch 5/10\n",
      "\u001b[1m347/347\u001b[0m \u001b[32m━━━━━━━━━━━━━━━━━━━━\u001b[0m\u001b[37m\u001b[0m \u001b[1m5s\u001b[0m 13ms/step - loss: 0.0024 - mae: 0.0303 - val_loss: 0.0023 - val_mae: 0.0298\n",
      "Epoch 6/10\n",
      "\u001b[1m347/347\u001b[0m \u001b[32m━━━━━━━━━━━━━━━━━━━━\u001b[0m\u001b[37m\u001b[0m \u001b[1m5s\u001b[0m 14ms/step - loss: 0.0024 - mae: 0.0302 - val_loss: 0.0022 - val_mae: 0.0285\n",
      "Epoch 7/10\n",
      "\u001b[1m347/347\u001b[0m \u001b[32m━━━━━━━━━━━━━━━━━━━━\u001b[0m\u001b[37m\u001b[0m \u001b[1m5s\u001b[0m 15ms/step - loss: 0.0023 - mae: 0.0295 - val_loss: 0.0022 - val_mae: 0.0291\n",
      "Epoch 8/10\n",
      "\u001b[1m347/347\u001b[0m \u001b[32m━━━━━━━━━━━━━━━━━━━━\u001b[0m\u001b[37m\u001b[0m \u001b[1m5s\u001b[0m 14ms/step - loss: 0.0024 - mae: 0.0298 - val_loss: 0.0022 - val_mae: 0.0289\n",
      "Epoch 9/10\n",
      "\u001b[1m347/347\u001b[0m \u001b[32m━━━━━━━━━━━━━━━━━━━━\u001b[0m\u001b[37m\u001b[0m \u001b[1m4s\u001b[0m 13ms/step - loss: 0.0023 - mae: 0.0295 - val_loss: 0.0021 - val_mae: 0.0283\n",
      "Epoch 10/10\n",
      "\u001b[1m347/347\u001b[0m \u001b[32m━━━━━━━━━━━━━━━━━━━━\u001b[0m\u001b[37m\u001b[0m \u001b[1m5s\u001b[0m 14ms/step - loss: 0.0024 - mae: 0.0298 - val_loss: 0.0021 - val_mae: 0.0277\n"
     ]
    },
    {
     "name": "stderr",
     "output_type": "stream",
     "text": [
      "[I 2025-08-11 21:43:54,828] Trial 27 finished with value: 0.0021128321532160044 and parameters: {'units': 128, 'dropout': 0.0, 'learning_rate': 0.0005, 'activation': 'relu', 'batch_size': 32, 'epochs': 10}. Best is trial 25 with value: 0.0020845099352300167.\n"
     ]
    },
    {
     "name": "stdout",
     "output_type": "stream",
     "text": [
      "Epoch 1/10\n",
      "\u001b[1m347/347\u001b[0m \u001b[32m━━━━━━━━━━━━━━━━━━━━\u001b[0m\u001b[37m\u001b[0m \u001b[1m6s\u001b[0m 11ms/step - loss: 0.0310 - mae: 0.1330 - val_loss: 0.0080 - val_mae: 0.0640\n",
      "Epoch 2/10\n",
      "\u001b[1m347/347\u001b[0m \u001b[32m━━━━━━━━━━━━━━━━━━━━\u001b[0m\u001b[37m\u001b[0m \u001b[1m3s\u001b[0m 10ms/step - loss: 0.0109 - mae: 0.0755 - val_loss: 0.0050 - val_mae: 0.0464\n",
      "Epoch 3/10\n",
      "\u001b[1m347/347\u001b[0m \u001b[32m━━━━━━━━━━━━━━━━━━━━\u001b[0m\u001b[37m\u001b[0m \u001b[1m3s\u001b[0m 10ms/step - loss: 0.0079 - mae: 0.0632 - val_loss: 0.0041 - val_mae: 0.0421\n",
      "Epoch 4/10\n",
      "\u001b[1m347/347\u001b[0m \u001b[32m━━━━━━━━━━━━━━━━━━━━\u001b[0m\u001b[37m\u001b[0m \u001b[1m4s\u001b[0m 11ms/step - loss: 0.0067 - mae: 0.0578 - val_loss: 0.0038 - val_mae: 0.0407\n",
      "Epoch 5/10\n",
      "\u001b[1m347/347\u001b[0m \u001b[32m━━━━━━━━━━━━━━━━━━━━\u001b[0m\u001b[37m\u001b[0m \u001b[1m4s\u001b[0m 11ms/step - loss: 0.0061 - mae: 0.0551 - val_loss: 0.0036 - val_mae: 0.0392\n",
      "Epoch 6/10\n",
      "\u001b[1m347/347\u001b[0m \u001b[32m━━━━━━━━━━━━━━━━━━━━\u001b[0m\u001b[37m\u001b[0m \u001b[1m3s\u001b[0m 10ms/step - loss: 0.0056 - mae: 0.0528 - val_loss: 0.0032 - val_mae: 0.0375\n",
      "Epoch 7/10\n",
      "\u001b[1m347/347\u001b[0m \u001b[32m━━━━━━━━━━━━━━━━━━━━\u001b[0m\u001b[37m\u001b[0m \u001b[1m3s\u001b[0m 10ms/step - loss: 0.0052 - mae: 0.0511 - val_loss: 0.0030 - val_mae: 0.0367\n",
      "Epoch 8/10\n",
      "\u001b[1m347/347\u001b[0m \u001b[32m━━━━━━━━━━━━━━━━━━━━\u001b[0m\u001b[37m\u001b[0m \u001b[1m3s\u001b[0m 10ms/step - loss: 0.0050 - mae: 0.0503 - val_loss: 0.0030 - val_mae: 0.0361\n",
      "Epoch 9/10\n",
      "\u001b[1m347/347\u001b[0m \u001b[32m━━━━━━━━━━━━━━━━━━━━\u001b[0m\u001b[37m\u001b[0m \u001b[1m3s\u001b[0m 10ms/step - loss: 0.0047 - mae: 0.0486 - val_loss: 0.0031 - val_mae: 0.0372\n",
      "Epoch 10/10\n",
      "\u001b[1m347/347\u001b[0m \u001b[32m━━━━━━━━━━━━━━━━━━━━\u001b[0m\u001b[37m\u001b[0m \u001b[1m3s\u001b[0m 10ms/step - loss: 0.0046 - mae: 0.0480 - val_loss: 0.0029 - val_mae: 0.0360\n"
     ]
    },
    {
     "name": "stderr",
     "output_type": "stream",
     "text": [
      "[I 2025-08-11 21:44:32,066] Trial 28 finished with value: 0.0029335019644349813 and parameters: {'units': 64, 'dropout': 0.4, 'learning_rate': 0.0001, 'activation': 'relu', 'batch_size': 32, 'epochs': 10}. Best is trial 25 with value: 0.0020845099352300167.\n"
     ]
    },
    {
     "name": "stdout",
     "output_type": "stream",
     "text": [
      "Epoch 1/10\n",
      "\u001b[1m347/347\u001b[0m \u001b[32m━━━━━━━━━━━━━━━━━━━━\u001b[0m\u001b[37m\u001b[0m \u001b[1m4s\u001b[0m 8ms/step - loss: 0.0241 - mae: 0.1088 - val_loss: 0.0030 - val_mae: 0.0358\n",
      "Epoch 2/10\n",
      "\u001b[1m347/347\u001b[0m \u001b[32m━━━━━━━━━━━━━━━━━━━━\u001b[0m\u001b[37m\u001b[0m \u001b[1m2s\u001b[0m 7ms/step - loss: 0.0029 - mae: 0.0355 - val_loss: 0.0025 - val_mae: 0.0318\n",
      "Epoch 3/10\n",
      "\u001b[1m347/347\u001b[0m \u001b[32m━━━━━━━━━━━━━━━━━━━━\u001b[0m\u001b[37m\u001b[0m \u001b[1m3s\u001b[0m 7ms/step - loss: 0.0026 - mae: 0.0324 - val_loss: 0.0024 - val_mae: 0.0303\n",
      "Epoch 4/10\n",
      "\u001b[1m347/347\u001b[0m \u001b[32m━━━━━━━━━━━━━━━━━━━━\u001b[0m\u001b[37m\u001b[0m \u001b[1m3s\u001b[0m 9ms/step - loss: 0.0026 - mae: 0.0319 - val_loss: 0.0024 - val_mae: 0.0311\n",
      "Epoch 5/10\n",
      "\u001b[1m347/347\u001b[0m \u001b[32m━━━━━━━━━━━━━━━━━━━━\u001b[0m\u001b[37m\u001b[0m \u001b[1m3s\u001b[0m 8ms/step - loss: 0.0025 - mae: 0.0314 - val_loss: 0.0023 - val_mae: 0.0296\n",
      "Epoch 6/10\n",
      "\u001b[1m347/347\u001b[0m \u001b[32m━━━━━━━━━━━━━━━━━━━━\u001b[0m\u001b[37m\u001b[0m \u001b[1m3s\u001b[0m 7ms/step - loss: 0.0024 - mae: 0.0305 - val_loss: 0.0023 - val_mae: 0.0293\n",
      "Epoch 7/10\n",
      "\u001b[1m347/347\u001b[0m \u001b[32m━━━━━━━━━━━━━━━━━━━━\u001b[0m\u001b[37m\u001b[0m \u001b[1m3s\u001b[0m 7ms/step - loss: 0.0024 - mae: 0.0306 - val_loss: 0.0024 - val_mae: 0.0321\n",
      "Epoch 8/10\n",
      "\u001b[1m347/347\u001b[0m \u001b[32m━━━━━━━━━━━━━━━━━━━━\u001b[0m\u001b[37m\u001b[0m \u001b[1m3s\u001b[0m 7ms/step - loss: 0.0024 - mae: 0.0301 - val_loss: 0.0022 - val_mae: 0.0282\n",
      "Epoch 9/10\n",
      "\u001b[1m347/347\u001b[0m \u001b[32m━━━━━━━━━━━━━━━━━━━━\u001b[0m\u001b[37m\u001b[0m \u001b[1m3s\u001b[0m 7ms/step - loss: 0.0023 - mae: 0.0295 - val_loss: 0.0022 - val_mae: 0.0292\n",
      "Epoch 10/10\n",
      "\u001b[1m347/347\u001b[0m \u001b[32m━━━━━━━━━━━━━━━━━━━━\u001b[0m\u001b[37m\u001b[0m \u001b[1m2s\u001b[0m 7ms/step - loss: 0.0024 - mae: 0.0303 - val_loss: 0.0022 - val_mae: 0.0279\n"
     ]
    },
    {
     "name": "stderr",
     "output_type": "stream",
     "text": [
      "[I 2025-08-11 21:44:59,757] Trial 29 finished with value: 0.0021592460107058287 and parameters: {'units': 32, 'dropout': 0.0, 'learning_rate': 0.001, 'activation': 'relu', 'batch_size': 32, 'epochs': 10}. Best is trial 25 with value: 0.0020845099352300167.\n"
     ]
    }
   ],
   "source": [
    "# Membuat studi Optuna untuk optimasi hyperparameter dengan tujuan meminimalkan loss\n",
    "study = optuna.create_study(direction='minimize')\n",
    "# Melakukan optimasi dengan memanggil fungsi objective sebanyak 30 percobaan (trials)\n",
    "study.optimize(objective, n_trials=30)"
   ]
  },
  {
   "cell_type": "code",
   "execution_count": 19,
   "metadata": {
    "execution": {
     "iopub.execute_input": "2025-08-09T06:56:26.142589Z",
     "iopub.status.busy": "2025-08-09T06:56:26.141959Z",
     "iopub.status.idle": "2025-08-09T06:56:26.147400Z",
     "shell.execute_reply": "2025-08-09T06:56:26.146371Z",
     "shell.execute_reply.started": "2025-08-09T06:56:26.142563Z"
    },
    "trusted": true
   },
   "outputs": [
    {
     "name": "stdout",
     "output_type": "stream",
     "text": [
      "Best hyperparameters:\n",
      "units: 128\n",
      "dropout: 0.0\n",
      "learning_rate: 0.0005\n",
      "activation: relu\n",
      "batch_size: 32\n",
      "epochs: 10\n"
     ]
    }
   ],
   "source": [
    "print(\"Best hyperparameters:\")\n",
    "for key, value in study.best_trial.params.items():\n",
    "    print(f\"{key}: {value}\")"
   ]
  },
  {
   "cell_type": "code",
   "execution_count": 20,
   "metadata": {
    "execution": {
     "iopub.execute_input": "2025-08-09T06:58:12.703827Z",
     "iopub.status.busy": "2025-08-09T06:58:12.703257Z",
     "iopub.status.idle": "2025-08-09T07:00:27.833745Z",
     "shell.execute_reply": "2025-08-09T07:00:27.833144Z",
     "shell.execute_reply.started": "2025-08-09T06:58:12.703804Z"
    },
    "trusted": true
   },
   "outputs": [
    {
     "name": "stdout",
     "output_type": "stream",
     "text": [
      "Epoch 1/50\n",
      "\u001b[1m347/347\u001b[0m \u001b[32m━━━━━━━━━━━━━━━━━━━━\u001b[0m\u001b[37m\u001b[0m \u001b[1m6s\u001b[0m 13ms/step - loss: 0.0308 - mae: 0.1182 - val_loss: 0.0243 - val_mae: 0.0914\n",
      "Epoch 2/50\n",
      "\u001b[1m347/347\u001b[0m \u001b[32m━━━━━━━━━━━━━━━━━━━━\u001b[0m\u001b[37m\u001b[0m \u001b[1m5s\u001b[0m 13ms/step - loss: 0.0208 - mae: 0.0832 - val_loss: 0.0027 - val_mae: 0.0341\n",
      "Epoch 3/50\n",
      "\u001b[1m347/347\u001b[0m \u001b[32m━━━━━━━━━━━━━━━━━━━━\u001b[0m\u001b[37m\u001b[0m \u001b[1m5s\u001b[0m 14ms/step - loss: 0.0027 - mae: 0.0325 - val_loss: 0.0023 - val_mae: 0.0299\n",
      "Epoch 4/50\n",
      "\u001b[1m347/347\u001b[0m \u001b[32m━━━━━━━━━━━━━━━━━━━━\u001b[0m\u001b[37m\u001b[0m \u001b[1m4s\u001b[0m 12ms/step - loss: 0.0024 - mae: 0.0308 - val_loss: 0.0023 - val_mae: 0.0294\n",
      "Epoch 5/50\n",
      "\u001b[1m347/347\u001b[0m \u001b[32m━━━━━━━━━━━━━━━━━━━━\u001b[0m\u001b[37m\u001b[0m \u001b[1m4s\u001b[0m 12ms/step - loss: 0.0025 - mae: 0.0309 - val_loss: 0.0023 - val_mae: 0.0293\n",
      "Epoch 6/50\n",
      "\u001b[1m347/347\u001b[0m \u001b[32m━━━━━━━━━━━━━━━━━━━━\u001b[0m\u001b[37m\u001b[0m \u001b[1m4s\u001b[0m 12ms/step - loss: 0.0023 - mae: 0.0298 - val_loss: 0.0022 - val_mae: 0.0291\n",
      "Epoch 7/50\n",
      "\u001b[1m347/347\u001b[0m \u001b[32m━━━━━━━━━━━━━━━━━━━━\u001b[0m\u001b[37m\u001b[0m \u001b[1m4s\u001b[0m 12ms/step - loss: 0.0024 - mae: 0.0303 - val_loss: 0.0024 - val_mae: 0.0311\n",
      "Epoch 8/50\n",
      "\u001b[1m347/347\u001b[0m \u001b[32m━━━━━━━━━━━━━━━━━━━━\u001b[0m\u001b[37m\u001b[0m \u001b[1m4s\u001b[0m 12ms/step - loss: 0.0023 - mae: 0.0295 - val_loss: 0.0023 - val_mae: 0.0288\n",
      "Epoch 9/50\n",
      "\u001b[1m347/347\u001b[0m \u001b[32m━━━━━━━━━━━━━━━━━━━━\u001b[0m\u001b[37m\u001b[0m \u001b[1m4s\u001b[0m 12ms/step - loss: 0.0023 - mae: 0.0298 - val_loss: 0.0022 - val_mae: 0.0286\n",
      "Epoch 10/50\n",
      "\u001b[1m347/347\u001b[0m \u001b[32m━━━━━━━━━━━━━━━━━━━━\u001b[0m\u001b[37m\u001b[0m \u001b[1m4s\u001b[0m 13ms/step - loss: 0.0023 - mae: 0.0293 - val_loss: 0.0022 - val_mae: 0.0284\n",
      "Epoch 11/50\n",
      "\u001b[1m347/347\u001b[0m \u001b[32m━━━━━━━━━━━━━━━━━━━━\u001b[0m\u001b[37m\u001b[0m \u001b[1m4s\u001b[0m 12ms/step - loss: 0.0023 - mae: 0.0295 - val_loss: 0.0021 - val_mae: 0.0278\n",
      "Epoch 12/50\n",
      "\u001b[1m347/347\u001b[0m \u001b[32m━━━━━━━━━━━━━━━━━━━━\u001b[0m\u001b[37m\u001b[0m \u001b[1m4s\u001b[0m 12ms/step - loss: 0.0022 - mae: 0.0289 - val_loss: 0.0021 - val_mae: 0.0286\n",
      "Epoch 13/50\n",
      "\u001b[1m347/347\u001b[0m \u001b[32m━━━━━━━━━━━━━━━━━━━━\u001b[0m\u001b[37m\u001b[0m \u001b[1m4s\u001b[0m 12ms/step - loss: 0.0023 - mae: 0.0289 - val_loss: 0.0021 - val_mae: 0.0284\n",
      "Epoch 14/50\n",
      "\u001b[1m347/347\u001b[0m \u001b[32m━━━━━━━━━━━━━━━━━━━━\u001b[0m\u001b[37m\u001b[0m \u001b[1m4s\u001b[0m 12ms/step - loss: 0.0023 - mae: 0.0289 - val_loss: 0.0021 - val_mae: 0.0280\n",
      "Epoch 15/50\n",
      "\u001b[1m347/347\u001b[0m \u001b[32m━━━━━━━━━━━━━━━━━━━━\u001b[0m\u001b[37m\u001b[0m \u001b[1m4s\u001b[0m 12ms/step - loss: 0.0022 - mae: 0.0285 - val_loss: 0.0021 - val_mae: 0.0282\n",
      "Epoch 16/50\n",
      "\u001b[1m347/347\u001b[0m \u001b[32m━━━━━━━━━━━━━━━━━━━━\u001b[0m\u001b[37m\u001b[0m \u001b[1m5s\u001b[0m 13ms/step - loss: 0.0021 - mae: 0.0282 - val_loss: 0.0021 - val_mae: 0.0291\n",
      "Epoch 17/50\n",
      "\u001b[1m347/347\u001b[0m \u001b[32m━━━━━━━━━━━━━━━━━━━━\u001b[0m\u001b[37m\u001b[0m \u001b[1m5s\u001b[0m 13ms/step - loss: 0.0021 - mae: 0.0283 - val_loss: 0.0020 - val_mae: 0.0281\n",
      "Epoch 18/50\n",
      "\u001b[1m347/347\u001b[0m \u001b[32m━━━━━━━━━━━━━━━━━━━━\u001b[0m\u001b[37m\u001b[0m \u001b[1m4s\u001b[0m 12ms/step - loss: 0.0021 - mae: 0.0283 - val_loss: 0.0020 - val_mae: 0.0270\n",
      "Epoch 19/50\n",
      "\u001b[1m347/347\u001b[0m \u001b[32m━━━━━━━━━━━━━━━━━━━━\u001b[0m\u001b[37m\u001b[0m \u001b[1m4s\u001b[0m 12ms/step - loss: 0.0022 - mae: 0.0284 - val_loss: 0.0020 - val_mae: 0.0267\n",
      "Epoch 20/50\n",
      "\u001b[1m347/347\u001b[0m \u001b[32m━━━━━━━━━━━━━━━━━━━━\u001b[0m\u001b[37m\u001b[0m \u001b[1m4s\u001b[0m 12ms/step - loss: 0.0021 - mae: 0.0280 - val_loss: 0.0021 - val_mae: 0.0276\n",
      "Epoch 21/50\n",
      "\u001b[1m347/347\u001b[0m \u001b[32m━━━━━━━━━━━━━━━━━━━━\u001b[0m\u001b[37m\u001b[0m \u001b[1m4s\u001b[0m 12ms/step - loss: 0.0022 - mae: 0.0283 - val_loss: 0.0020 - val_mae: 0.0265\n",
      "Epoch 22/50\n",
      "\u001b[1m347/347\u001b[0m \u001b[32m━━━━━━━━━━━━━━━━━━━━\u001b[0m\u001b[37m\u001b[0m \u001b[1m4s\u001b[0m 12ms/step - loss: 0.0021 - mae: 0.0276 - val_loss: 0.0020 - val_mae: 0.0273\n",
      "Epoch 23/50\n",
      "\u001b[1m347/347\u001b[0m \u001b[32m━━━━━━━━━━━━━━━━━━━━\u001b[0m\u001b[37m\u001b[0m \u001b[1m4s\u001b[0m 12ms/step - loss: 0.0021 - mae: 0.0278 - val_loss: 0.0019 - val_mae: 0.0269\n",
      "Epoch 24/50\n",
      "\u001b[1m347/347\u001b[0m \u001b[32m━━━━━━━━━━━━━━━━━━━━\u001b[0m\u001b[37m\u001b[0m \u001b[1m4s\u001b[0m 12ms/step - loss: 0.0021 - mae: 0.0278 - val_loss: 0.0020 - val_mae: 0.0274\n",
      "Epoch 25/50\n",
      "\u001b[1m347/347\u001b[0m \u001b[32m━━━━━━━━━━━━━━━━━━━━\u001b[0m\u001b[37m\u001b[0m \u001b[1m4s\u001b[0m 12ms/step - loss: 0.0020 - mae: 0.0275 - val_loss: 0.0020 - val_mae: 0.0271\n",
      "Epoch 26/50\n",
      "\u001b[1m347/347\u001b[0m \u001b[32m━━━━━━━━━━━━━━━━━━━━\u001b[0m\u001b[37m\u001b[0m \u001b[1m4s\u001b[0m 12ms/step - loss: 0.0020 - mae: 0.0275 - val_loss: 0.0019 - val_mae: 0.0271\n",
      "Epoch 27/50\n",
      "\u001b[1m347/347\u001b[0m \u001b[32m━━━━━━━━━━━━━━━━━━━━\u001b[0m\u001b[37m\u001b[0m \u001b[1m4s\u001b[0m 12ms/step - loss: 0.0020 - mae: 0.0276 - val_loss: 0.0019 - val_mae: 0.0268\n",
      "Epoch 28/50\n",
      "\u001b[1m347/347\u001b[0m \u001b[32m━━━━━━━━━━━━━━━━━━━━\u001b[0m\u001b[37m\u001b[0m \u001b[1m4s\u001b[0m 12ms/step - loss: 0.0020 - mae: 0.0272 - val_loss: 0.0019 - val_mae: 0.0270\n",
      "Epoch 29/50\n",
      "\u001b[1m347/347\u001b[0m \u001b[32m━━━━━━━━━━━━━━━━━━━━\u001b[0m\u001b[37m\u001b[0m \u001b[1m4s\u001b[0m 12ms/step - loss: 0.0020 - mae: 0.0273 - val_loss: 0.0019 - val_mae: 0.0265\n",
      "Epoch 30/50\n",
      "\u001b[1m347/347\u001b[0m \u001b[32m━━━━━━━━━━━━━━━━━━━━\u001b[0m\u001b[37m\u001b[0m \u001b[1m5s\u001b[0m 14ms/step - loss: 0.0020 - mae: 0.0272 - val_loss: 0.0020 - val_mae: 0.0272\n",
      "Epoch 31/50\n",
      "\u001b[1m347/347\u001b[0m \u001b[32m━━━━━━━━━━━━━━━━━━━━\u001b[0m\u001b[37m\u001b[0m \u001b[1m4s\u001b[0m 12ms/step - loss: 0.0019 - mae: 0.0271 - val_loss: 0.0019 - val_mae: 0.0270\n",
      "Epoch 32/50\n",
      "\u001b[1m347/347\u001b[0m \u001b[32m━━━━━━━━━━━━━━━━━━━━\u001b[0m\u001b[37m\u001b[0m \u001b[1m4s\u001b[0m 12ms/step - loss: 0.0020 - mae: 0.0273 - val_loss: 0.0020 - val_mae: 0.0266\n",
      "Epoch 33/50\n",
      "\u001b[1m347/347\u001b[0m \u001b[32m━━━━━━━━━━━━━━━━━━━━\u001b[0m\u001b[37m\u001b[0m \u001b[1m4s\u001b[0m 12ms/step - loss: 0.0020 - mae: 0.0271 - val_loss: 0.0020 - val_mae: 0.0269\n",
      "Epoch 34/50\n",
      "\u001b[1m347/347\u001b[0m \u001b[32m━━━━━━━━━━━━━━━━━━━━\u001b[0m\u001b[37m\u001b[0m \u001b[1m4s\u001b[0m 12ms/step - loss: 0.0020 - mae: 0.0275 - val_loss: 0.0019 - val_mae: 0.0264\n",
      "Epoch 35/50\n",
      "\u001b[1m347/347\u001b[0m \u001b[32m━━━━━━━━━━━━━━━━━━━━\u001b[0m\u001b[37m\u001b[0m \u001b[1m4s\u001b[0m 13ms/step - loss: 0.0020 - mae: 0.0270 - val_loss: 0.0018 - val_mae: 0.0257\n",
      "Epoch 36/50\n",
      "\u001b[1m347/347\u001b[0m \u001b[32m━━━━━━━━━━━━━━━━━━━━\u001b[0m\u001b[37m\u001b[0m \u001b[1m4s\u001b[0m 12ms/step - loss: 0.0019 - mae: 0.0266 - val_loss: 0.0018 - val_mae: 0.0265\n",
      "Epoch 37/50\n",
      "\u001b[1m347/347\u001b[0m \u001b[32m━━━━━━━━━━━━━━━━━━━━\u001b[0m\u001b[37m\u001b[0m \u001b[1m4s\u001b[0m 13ms/step - loss: 0.0018 - mae: 0.0265 - val_loss: 0.0019 - val_mae: 0.0272\n",
      "Epoch 38/50\n",
      "\u001b[1m347/347\u001b[0m \u001b[32m━━━━━━━━━━━━━━━━━━━━\u001b[0m\u001b[37m\u001b[0m \u001b[1m4s\u001b[0m 12ms/step - loss: 0.0019 - mae: 0.0268 - val_loss: 0.0018 - val_mae: 0.0259\n",
      "Epoch 39/50\n",
      "\u001b[1m347/347\u001b[0m \u001b[32m━━━━━━━━━━━━━━━━━━━━\u001b[0m\u001b[37m\u001b[0m \u001b[1m4s\u001b[0m 13ms/step - loss: 0.0018 - mae: 0.0264 - val_loss: 0.0019 - val_mae: 0.0262\n",
      "Epoch 40/50\n",
      "\u001b[1m347/347\u001b[0m \u001b[32m━━━━━━━━━━━━━━━━━━━━\u001b[0m\u001b[37m\u001b[0m \u001b[1m4s\u001b[0m 13ms/step - loss: 0.0018 - mae: 0.0263 - val_loss: 0.0019 - val_mae: 0.0270\n",
      "Epoch 41/50\n",
      "\u001b[1m347/347\u001b[0m \u001b[32m━━━━━━━━━━━━━━━━━━━━\u001b[0m\u001b[37m\u001b[0m \u001b[1m4s\u001b[0m 13ms/step - loss: 0.0019 - mae: 0.0266 - val_loss: 0.0018 - val_mae: 0.0272\n",
      "Epoch 42/50\n",
      "\u001b[1m347/347\u001b[0m \u001b[32m━━━━━━━━━━━━━━━━━━━━\u001b[0m\u001b[37m\u001b[0m \u001b[1m5s\u001b[0m 14ms/step - loss: 0.0018 - mae: 0.0262 - val_loss: 0.0017 - val_mae: 0.0254\n",
      "Epoch 43/50\n",
      "\u001b[1m347/347\u001b[0m \u001b[32m━━━━━━━━━━━━━━━━━━━━\u001b[0m\u001b[37m\u001b[0m \u001b[1m5s\u001b[0m 14ms/step - loss: 0.0018 - mae: 0.0259 - val_loss: 0.0017 - val_mae: 0.0260\n",
      "Epoch 44/50\n",
      "\u001b[1m347/347\u001b[0m \u001b[32m━━━━━━━━━━━━━━━━━━━━\u001b[0m\u001b[37m\u001b[0m \u001b[1m5s\u001b[0m 13ms/step - loss: 0.0018 - mae: 0.0264 - val_loss: 0.0017 - val_mae: 0.0254\n",
      "Epoch 45/50\n",
      "\u001b[1m347/347\u001b[0m \u001b[32m━━━━━━━━━━━━━━━━━━━━\u001b[0m\u001b[37m\u001b[0m \u001b[1m5s\u001b[0m 13ms/step - loss: 0.0018 - mae: 0.0261 - val_loss: 0.0017 - val_mae: 0.0250\n",
      "Epoch 46/50\n",
      "\u001b[1m347/347\u001b[0m \u001b[32m━━━━━━━━━━━━━━━━━━━━\u001b[0m\u001b[37m\u001b[0m \u001b[1m4s\u001b[0m 13ms/step - loss: 0.0018 - mae: 0.0260 - val_loss: 0.0017 - val_mae: 0.0260\n",
      "Epoch 47/50\n",
      "\u001b[1m347/347\u001b[0m \u001b[32m━━━━━━━━━━━━━━━━━━━━\u001b[0m\u001b[37m\u001b[0m \u001b[1m5s\u001b[0m 13ms/step - loss: 0.0017 - mae: 0.0257 - val_loss: 0.0018 - val_mae: 0.0254\n",
      "Epoch 48/50\n",
      "\u001b[1m347/347\u001b[0m \u001b[32m━━━━━━━━━━━━━━━━━━━━\u001b[0m\u001b[37m\u001b[0m \u001b[1m4s\u001b[0m 13ms/step - loss: 0.0018 - mae: 0.0258 - val_loss: 0.0016 - val_mae: 0.0247\n",
      "Epoch 49/50\n",
      "\u001b[1m347/347\u001b[0m \u001b[32m━━━━━━━━━━━━━━━━━━━━\u001b[0m\u001b[37m\u001b[0m \u001b[1m4s\u001b[0m 13ms/step - loss: 0.0018 - mae: 0.0257 - val_loss: 0.0017 - val_mae: 0.0252\n",
      "Epoch 50/50\n",
      "\u001b[1m347/347\u001b[0m \u001b[32m━━━━━━━━━━━━━━━━━━━━\u001b[0m\u001b[37m\u001b[0m \u001b[1m4s\u001b[0m 12ms/step - loss: 0.0017 - mae: 0.0257 - val_loss: 0.0017 - val_mae: 0.0252\n"
     ]
    },
    {
     "data": {
      "text/plain": [
       "<keras.src.callbacks.history.History at 0x18f56a59ff0>"
      ]
     },
     "execution_count": 20,
     "metadata": {},
     "output_type": "execute_result"
    }
   ],
   "source": [
    "best_params = study.best_trial.params\n",
    "# Fungsi untuk membangun model LSTM dengan hyperparameter terbaik\n",
    "def build_best_model(params):\n",
    "    model = Sequential()\n",
    "    # Menambahkan layer LSTM pertama\n",
    "    model.add(LSTM(params['units'], activation=params['activation'], input_shape=(n_in, n_features)))\n",
    "    # Menambahkan layer Dropout untuk mencegah overfitting\n",
    "    model.add(Dropout(params['dropout']))\n",
    "    # Menambahkan RepeatVector untuk mengulang output agar sesuai dengan jumlah timestep output\n",
    "    model.add(RepeatVector(n_out))\n",
    "    # Menambahkan layer LSTM kedua\n",
    "    model.add(LSTM(params['units'], activation=params['activation'], return_sequences=True))\n",
    "    # Menambahkan layer Dropout kedua\n",
    "    model.add(Dropout(params['dropout']))\n",
    "    # Menambahkan TimeDistributed Dense layer untuk menghasilkan output pada setiap timestep\n",
    "    model.add(TimeDistributed(Dense(n_features, activation='relu')))\n",
    "\n",
    "    # Menggunakan optimizer Adam dengan learning rate terbaik\n",
    "    optimizer = Adam(learning_rate=params['learning_rate'])\n",
    "    # Menyusun model dengan loss function MeanSquaredError dan metric MAE\n",
    "    model.compile(optimizer=optimizer, loss=MeanSquaredError(), metrics=['mae'])\n",
    "    return model\n",
    "\n",
    "# Membuat model dengan hyperparameter terbaik\n",
    "model = build_best_model(best_params)\n",
    "\n",
    "# Melatih model dengan data latih, menggunakan batch size terbaik dan 50 epoch\n",
    "model.fit(X_train, y_train, epochs=50, batch_size=best_params['batch_size'], validation_split=0.2)"
   ]
  },
  {
   "cell_type": "code",
   "execution_count": 21,
   "metadata": {
    "execution": {
     "iopub.execute_input": "2025-08-09T07:02:43.154904Z",
     "iopub.status.busy": "2025-08-09T07:02:43.154622Z",
     "iopub.status.idle": "2025-08-09T07:02:43.189133Z",
     "shell.execute_reply": "2025-08-09T07:02:43.188368Z",
     "shell.execute_reply.started": "2025-08-09T07:02:43.154881Z"
    },
    "trusted": true
   },
   "outputs": [
    {
     "name": "stderr",
     "output_type": "stream",
     "text": [
      "WARNING:absl:You are saving your model as an HDF5 file via `model.save()` or `keras.saving.save_model(model)`. This file format is considered legacy. We recommend using instead the native Keras format, e.g. `model.save('my_model.keras')` or `keras.saving.save_model(model, 'my_model.keras')`. \n"
     ]
    }
   ],
   "source": [
    "model.save('best_lstm_model.h5')"
   ]
  }
 ],
 "metadata": {
  "kaggle": {
   "accelerator": "gpu",
   "dataSources": [
    {
     "datasetId": 8034166,
     "sourceId": 12711651,
     "sourceType": "datasetVersion"
    }
   ],
   "isGpuEnabled": true,
   "isInternetEnabled": true,
   "language": "python",
   "sourceType": "notebook"
  },
  "kernelspec": {
   "display_name": "prediksi-polusi",
   "language": "python",
   "name": "python3"
  },
  "language_info": {
   "codemirror_mode": {
    "name": "ipython",
    "version": 3
   },
   "file_extension": ".py",
   "mimetype": "text/x-python",
   "name": "python",
   "nbconvert_exporter": "python",
   "pygments_lexer": "ipython3",
   "version": "3.10.18"
  }
 },
 "nbformat": 4,
 "nbformat_minor": 4
}
